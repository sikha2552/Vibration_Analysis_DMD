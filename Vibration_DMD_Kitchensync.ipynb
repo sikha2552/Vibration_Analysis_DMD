{
  "cells": [
    {
      "cell_type": "markdown",
      "metadata": {
        "id": "view-in-github",
        "colab_type": "text"
      },
      "source": [
        "<a href=\"https://colab.research.google.com/github/sikha2552/Vibration_Analysis_DMD/blob/main/Vibration_DMD_Kitchensync.ipynb\" target=\"_parent\"><img src=\"https://colab.research.google.com/assets/colab-badge.svg\" alt=\"Open In Colab\"/></a>"
      ]
    },
    {
      "cell_type": "markdown",
      "id": "00aff37d",
      "metadata": {
        "id": "00aff37d"
      },
      "source": [
        "\n",
        "# CLASSIFICATION OF VIBRATION DATA"
      ]
    },
    {
      "cell_type": "code",
      "source": [
        "from google.colab import drive\n",
        "drive.mount('/content/drive')"
      ],
      "metadata": {
        "colab": {
          "base_uri": "https://localhost:8080/"
        },
        "id": "_YJsCYADSUwe",
        "outputId": "f11e4c65-2cf0-4086-d78a-437ecb0c11f6"
      },
      "id": "_YJsCYADSUwe",
      "execution_count": null,
      "outputs": [
        {
          "output_type": "stream",
          "name": "stdout",
          "text": [
            "Mounted at /content/drive\n"
          ]
        }
      ]
    },
    {
      "cell_type": "code",
      "execution_count": null,
      "id": "adbbea66",
      "metadata": {
        "colab": {
          "base_uri": "https://localhost:8080/",
          "height": 36
        },
        "id": "adbbea66",
        "outputId": "4bfd8a74-6df2-4033-a5af-50102f472c34"
      },
      "outputs": [
        {
          "output_type": "execute_result",
          "data": {
            "text/plain": [
              "'/content'"
            ],
            "application/vnd.google.colaboratory.intrinsic+json": {
              "type": "string"
            }
          },
          "metadata": {},
          "execution_count": 2
        }
      ],
      "source": [
        "#Check the current working directory\n",
        "import os\n",
        "os.getcwd()"
      ]
    },
    {
      "cell_type": "code",
      "execution_count": null,
      "id": "96c68666",
      "metadata": {
        "id": "96c68666"
      },
      "outputs": [],
      "source": [
        "#Change Direcory\n",
        "#os.chdir('D:\\\\RESEARCH\\\\POST_PHD\\\\00_ANACONDA_CODES\\\\JITHIN')\n",
        "#Change Direcory\n",
        "os.chdir('/content/drive/MyDrive/MY_Learnings/JITHIN_Vibration_analysis')"
      ]
    },
    {
      "cell_type": "code",
      "execution_count": null,
      "id": "820c2606",
      "metadata": {
        "scrolled": true,
        "colab": {
          "base_uri": "https://localhost:8080/"
        },
        "id": "820c2606",
        "outputId": "7b56e43e-3058-4ff9-fa41-d954cbb5c112"
      },
      "outputs": [
        {
          "output_type": "stream",
          "name": "stdout",
          "text": [
            "'Phi_1-3-5-7-9 into Psi_1-3-5-7-9_28001into5.mat'\n",
            " Phi_into_Psi_5_2000_UPDATE.mat\n",
            "'Phi into Psi_all but single columns_2000 each.mat'\n",
            " RKS_28000.mat\n",
            "'Updated_Vibration_DMD_Phi into Psi_all but single columns_2000 each.ipynb'\n",
            " Vibration_DMD_Kitchensync.ipynb\n",
            "'Vibration_DMD_Phi into Psi_all but single columns_2000 each.ipynb'\n"
          ]
        }
      ],
      "source": [
        "ls"
      ]
    },
    {
      "cell_type": "code",
      "execution_count": null,
      "id": "63a2b8c5",
      "metadata": {
        "id": "63a2b8c5"
      },
      "outputs": [],
      "source": [
        "import numpy as np\n",
        "import pandas as pd\n",
        "import matplotlib.pyplot as plt\n",
        "from sklearn.preprocessing import StandardScaler\n",
        "\n",
        "from sklearn.metrics import classification_report,confusion_matrix\n",
        "import seaborn as sns\n",
        "from sklearn.model_selection import train_test_split\n",
        "from sklearn.svm import SVC\n",
        "from sklearn.linear_model import LogisticRegression\n",
        "from sklearn.neighbors import KNeighborsClassifier\n",
        "from sklearn.tree import DecisionTreeClassifier\n",
        "from sklearn.model_selection import RepeatedKFold\n",
        "from sklearn.model_selection import cross_val_score,cross_val_predict\n",
        "\n",
        "from sklearn import metrics\n",
        "from sklearn.metrics import (precision_score,\n",
        "                            accuracy_score,\n",
        "                            recall_score,\n",
        "                            f1_score)\n",
        "\n",
        "import warnings\n",
        "warnings.filterwarnings(\"ignore\")"
      ]
    },
    {
      "cell_type": "code",
      "execution_count": null,
      "id": "133a7477",
      "metadata": {
        "id": "133a7477"
      },
      "outputs": [],
      "source": [
        "#To lad a .mat file\n",
        "from scipy.io import loadmat\n",
        "phdiff = loadmat(\"RKS_28000.mat\")\n",
        "#dada_set will be loaded as a dictionary "
      ]
    },
    {
      "cell_type": "code",
      "execution_count": null,
      "id": "426af81e",
      "metadata": {
        "colab": {
          "base_uri": "https://localhost:8080/"
        },
        "id": "426af81e",
        "outputId": "0029c722-38d9-4795-c56c-de048bd23768"
      },
      "outputs": [
        {
          "output_type": "stream",
          "name": "stdout",
          "text": [
            "{'__header__': b'MATLAB 5.0 MAT-file, Platform: PCWIN64, Created on: Tue Dec 27 23:40:37 2022', '__version__': '1.0', '__globals__': [], 'RKS_save1': array([[0.72844058, 0.72743937, 0.72643694, ..., 0.37026453, 0.36780855,\n",
            "        0.36530233],\n",
            "       [0.58168774, 0.58318702, 0.58470915, ..., 0.41289954, 0.41292941,\n",
            "        0.41298483],\n",
            "       [0.90590066, 0.90567625, 0.90545698, ..., 0.21254526, 0.21298582,\n",
            "        0.21343298],\n",
            "       ...,\n",
            "       [0.99984881, 0.99984921, 0.99984961, ..., 0.01690866, 0.01693464,\n",
            "        0.01695919],\n",
            "       [0.9999697 , 0.99996985, 0.99996999, ..., 0.00966675, 0.00967858,\n",
            "        0.00968975],\n",
            "       [0.99999859, 0.99999858, 0.99999856, ..., 0.00642803, 0.00640265,\n",
            "        0.00637737]])}\n"
          ]
        }
      ],
      "source": [
        "print(phdiff)"
      ]
    },
    {
      "cell_type": "code",
      "execution_count": null,
      "id": "3d48c88a",
      "metadata": {
        "scrolled": true,
        "colab": {
          "base_uri": "https://localhost:8080/"
        },
        "id": "3d48c88a",
        "outputId": "c0efb2a5-7142-474a-e4ba-95114fdab56d"
      },
      "outputs": [
        {
          "output_type": "stream",
          "name": "stdout",
          "text": [
            "dict_keys(['__header__', '__version__', '__globals__', 'RKS_save1'])\n"
          ]
        }
      ],
      "source": [
        "print(phdiff.keys())"
      ]
    },
    {
      "cell_type": "code",
      "execution_count": null,
      "id": "efcfdaa7",
      "metadata": {
        "id": "efcfdaa7"
      },
      "outputs": [],
      "source": [
        "data = [[element for element in upperElement] for upperElement in phdiff['RKS_save1']]\n"
      ]
    },
    {
      "cell_type": "code",
      "execution_count": null,
      "id": "687f1e35",
      "metadata": {
        "id": "687f1e35"
      },
      "outputs": [],
      "source": [
        "df = pd.DataFrame(data)"
      ]
    },
    {
      "cell_type": "code",
      "execution_count": null,
      "id": "6062ff24",
      "metadata": {
        "colab": {
          "base_uri": "https://localhost:8080/",
          "height": 299
        },
        "id": "6062ff24",
        "outputId": "04dc67c6-f299-45ee-943d-60b2b42a7274"
      },
      "outputs": [
        {
          "output_type": "execute_result",
          "data": {
            "text/plain": [
              "       0         1         2         3         4         5         6     \\\n",
              "0  0.728441  0.727439  0.726437  0.725433  0.724429  0.723426  0.722423   \n",
              "1  0.581688  0.583187  0.584709  0.586252  0.587816  0.589398  0.590998   \n",
              "2  0.905901  0.905676  0.905457  0.905243  0.905034  0.904830  0.904632   \n",
              "3  0.996871  0.996871  0.996871  0.996871  0.996872  0.996873  0.996874   \n",
              "4  0.995391  0.995387  0.995384  0.995380  0.995377  0.995373  0.995369   \n",
              "\n",
              "       7         8         9     ...      5590      5591      5592      5593  \\\n",
              "0  0.721420  0.720420  0.719422  ...  0.386029  0.383931  0.381782  0.379581   \n",
              "1  0.592613  0.594244  0.595887  ...  0.413396  0.413250  0.413129  0.413033   \n",
              "2  0.904440  0.904253  0.904071  ...  0.209636  0.210033  0.210436  0.210846   \n",
              "3  0.996875  0.996877  0.996879  ...  0.114697  0.114763  0.114830  0.114899   \n",
              "4  0.995365  0.995360  0.995356  ...  0.082085  0.082084  0.082083  0.082081   \n",
              "\n",
              "       5594      5595      5596      5597      5598      5599  \n",
              "0  0.377329  0.375025  0.372670  0.370265  0.367809  0.365302  \n",
              "1  0.412961  0.412916  0.412895  0.412900  0.412929  0.412985  \n",
              "2  0.211261  0.211683  0.212111  0.212545  0.212986  0.213433  \n",
              "3  0.114968  0.115038  0.115109  0.115181  0.115254  0.115328  \n",
              "4  0.082080  0.082078  0.082077  0.082076  0.082074  0.082073  \n",
              "\n",
              "[5 rows x 5600 columns]"
            ],
            "text/html": [
              "\n",
              "  <div id=\"df-9df8bc52-614e-46c6-ba6b-7860211e4a1f\">\n",
              "    <div class=\"colab-df-container\">\n",
              "      <div>\n",
              "<style scoped>\n",
              "    .dataframe tbody tr th:only-of-type {\n",
              "        vertical-align: middle;\n",
              "    }\n",
              "\n",
              "    .dataframe tbody tr th {\n",
              "        vertical-align: top;\n",
              "    }\n",
              "\n",
              "    .dataframe thead th {\n",
              "        text-align: right;\n",
              "    }\n",
              "</style>\n",
              "<table border=\"1\" class=\"dataframe\">\n",
              "  <thead>\n",
              "    <tr style=\"text-align: right;\">\n",
              "      <th></th>\n",
              "      <th>0</th>\n",
              "      <th>1</th>\n",
              "      <th>2</th>\n",
              "      <th>3</th>\n",
              "      <th>4</th>\n",
              "      <th>5</th>\n",
              "      <th>6</th>\n",
              "      <th>7</th>\n",
              "      <th>8</th>\n",
              "      <th>9</th>\n",
              "      <th>...</th>\n",
              "      <th>5590</th>\n",
              "      <th>5591</th>\n",
              "      <th>5592</th>\n",
              "      <th>5593</th>\n",
              "      <th>5594</th>\n",
              "      <th>5595</th>\n",
              "      <th>5596</th>\n",
              "      <th>5597</th>\n",
              "      <th>5598</th>\n",
              "      <th>5599</th>\n",
              "    </tr>\n",
              "  </thead>\n",
              "  <tbody>\n",
              "    <tr>\n",
              "      <th>0</th>\n",
              "      <td>0.728441</td>\n",
              "      <td>0.727439</td>\n",
              "      <td>0.726437</td>\n",
              "      <td>0.725433</td>\n",
              "      <td>0.724429</td>\n",
              "      <td>0.723426</td>\n",
              "      <td>0.722423</td>\n",
              "      <td>0.721420</td>\n",
              "      <td>0.720420</td>\n",
              "      <td>0.719422</td>\n",
              "      <td>...</td>\n",
              "      <td>0.386029</td>\n",
              "      <td>0.383931</td>\n",
              "      <td>0.381782</td>\n",
              "      <td>0.379581</td>\n",
              "      <td>0.377329</td>\n",
              "      <td>0.375025</td>\n",
              "      <td>0.372670</td>\n",
              "      <td>0.370265</td>\n",
              "      <td>0.367809</td>\n",
              "      <td>0.365302</td>\n",
              "    </tr>\n",
              "    <tr>\n",
              "      <th>1</th>\n",
              "      <td>0.581688</td>\n",
              "      <td>0.583187</td>\n",
              "      <td>0.584709</td>\n",
              "      <td>0.586252</td>\n",
              "      <td>0.587816</td>\n",
              "      <td>0.589398</td>\n",
              "      <td>0.590998</td>\n",
              "      <td>0.592613</td>\n",
              "      <td>0.594244</td>\n",
              "      <td>0.595887</td>\n",
              "      <td>...</td>\n",
              "      <td>0.413396</td>\n",
              "      <td>0.413250</td>\n",
              "      <td>0.413129</td>\n",
              "      <td>0.413033</td>\n",
              "      <td>0.412961</td>\n",
              "      <td>0.412916</td>\n",
              "      <td>0.412895</td>\n",
              "      <td>0.412900</td>\n",
              "      <td>0.412929</td>\n",
              "      <td>0.412985</td>\n",
              "    </tr>\n",
              "    <tr>\n",
              "      <th>2</th>\n",
              "      <td>0.905901</td>\n",
              "      <td>0.905676</td>\n",
              "      <td>0.905457</td>\n",
              "      <td>0.905243</td>\n",
              "      <td>0.905034</td>\n",
              "      <td>0.904830</td>\n",
              "      <td>0.904632</td>\n",
              "      <td>0.904440</td>\n",
              "      <td>0.904253</td>\n",
              "      <td>0.904071</td>\n",
              "      <td>...</td>\n",
              "      <td>0.209636</td>\n",
              "      <td>0.210033</td>\n",
              "      <td>0.210436</td>\n",
              "      <td>0.210846</td>\n",
              "      <td>0.211261</td>\n",
              "      <td>0.211683</td>\n",
              "      <td>0.212111</td>\n",
              "      <td>0.212545</td>\n",
              "      <td>0.212986</td>\n",
              "      <td>0.213433</td>\n",
              "    </tr>\n",
              "    <tr>\n",
              "      <th>3</th>\n",
              "      <td>0.996871</td>\n",
              "      <td>0.996871</td>\n",
              "      <td>0.996871</td>\n",
              "      <td>0.996871</td>\n",
              "      <td>0.996872</td>\n",
              "      <td>0.996873</td>\n",
              "      <td>0.996874</td>\n",
              "      <td>0.996875</td>\n",
              "      <td>0.996877</td>\n",
              "      <td>0.996879</td>\n",
              "      <td>...</td>\n",
              "      <td>0.114697</td>\n",
              "      <td>0.114763</td>\n",
              "      <td>0.114830</td>\n",
              "      <td>0.114899</td>\n",
              "      <td>0.114968</td>\n",
              "      <td>0.115038</td>\n",
              "      <td>0.115109</td>\n",
              "      <td>0.115181</td>\n",
              "      <td>0.115254</td>\n",
              "      <td>0.115328</td>\n",
              "    </tr>\n",
              "    <tr>\n",
              "      <th>4</th>\n",
              "      <td>0.995391</td>\n",
              "      <td>0.995387</td>\n",
              "      <td>0.995384</td>\n",
              "      <td>0.995380</td>\n",
              "      <td>0.995377</td>\n",
              "      <td>0.995373</td>\n",
              "      <td>0.995369</td>\n",
              "      <td>0.995365</td>\n",
              "      <td>0.995360</td>\n",
              "      <td>0.995356</td>\n",
              "      <td>...</td>\n",
              "      <td>0.082085</td>\n",
              "      <td>0.082084</td>\n",
              "      <td>0.082083</td>\n",
              "      <td>0.082081</td>\n",
              "      <td>0.082080</td>\n",
              "      <td>0.082078</td>\n",
              "      <td>0.082077</td>\n",
              "      <td>0.082076</td>\n",
              "      <td>0.082074</td>\n",
              "      <td>0.082073</td>\n",
              "    </tr>\n",
              "  </tbody>\n",
              "</table>\n",
              "<p>5 rows × 5600 columns</p>\n",
              "</div>\n",
              "      <button class=\"colab-df-convert\" onclick=\"convertToInteractive('df-9df8bc52-614e-46c6-ba6b-7860211e4a1f')\"\n",
              "              title=\"Convert this dataframe to an interactive table.\"\n",
              "              style=\"display:none;\">\n",
              "        \n",
              "  <svg xmlns=\"http://www.w3.org/2000/svg\" height=\"24px\"viewBox=\"0 0 24 24\"\n",
              "       width=\"24px\">\n",
              "    <path d=\"M0 0h24v24H0V0z\" fill=\"none\"/>\n",
              "    <path d=\"M18.56 5.44l.94 2.06.94-2.06 2.06-.94-2.06-.94-.94-2.06-.94 2.06-2.06.94zm-11 1L8.5 8.5l.94-2.06 2.06-.94-2.06-.94L8.5 2.5l-.94 2.06-2.06.94zm10 10l.94 2.06.94-2.06 2.06-.94-2.06-.94-.94-2.06-.94 2.06-2.06.94z\"/><path d=\"M17.41 7.96l-1.37-1.37c-.4-.4-.92-.59-1.43-.59-.52 0-1.04.2-1.43.59L10.3 9.45l-7.72 7.72c-.78.78-.78 2.05 0 2.83L4 21.41c.39.39.9.59 1.41.59.51 0 1.02-.2 1.41-.59l7.78-7.78 2.81-2.81c.8-.78.8-2.07 0-2.86zM5.41 20L4 18.59l7.72-7.72 1.47 1.35L5.41 20z\"/>\n",
              "  </svg>\n",
              "      </button>\n",
              "      \n",
              "  <style>\n",
              "    .colab-df-container {\n",
              "      display:flex;\n",
              "      flex-wrap:wrap;\n",
              "      gap: 12px;\n",
              "    }\n",
              "\n",
              "    .colab-df-convert {\n",
              "      background-color: #E8F0FE;\n",
              "      border: none;\n",
              "      border-radius: 50%;\n",
              "      cursor: pointer;\n",
              "      display: none;\n",
              "      fill: #1967D2;\n",
              "      height: 32px;\n",
              "      padding: 0 0 0 0;\n",
              "      width: 32px;\n",
              "    }\n",
              "\n",
              "    .colab-df-convert:hover {\n",
              "      background-color: #E2EBFA;\n",
              "      box-shadow: 0px 1px 2px rgba(60, 64, 67, 0.3), 0px 1px 3px 1px rgba(60, 64, 67, 0.15);\n",
              "      fill: #174EA6;\n",
              "    }\n",
              "\n",
              "    [theme=dark] .colab-df-convert {\n",
              "      background-color: #3B4455;\n",
              "      fill: #D2E3FC;\n",
              "    }\n",
              "\n",
              "    [theme=dark] .colab-df-convert:hover {\n",
              "      background-color: #434B5C;\n",
              "      box-shadow: 0px 1px 3px 1px rgba(0, 0, 0, 0.15);\n",
              "      filter: drop-shadow(0px 1px 2px rgba(0, 0, 0, 0.3));\n",
              "      fill: #FFFFFF;\n",
              "    }\n",
              "  </style>\n",
              "\n",
              "      <script>\n",
              "        const buttonEl =\n",
              "          document.querySelector('#df-9df8bc52-614e-46c6-ba6b-7860211e4a1f button.colab-df-convert');\n",
              "        buttonEl.style.display =\n",
              "          google.colab.kernel.accessAllowed ? 'block' : 'none';\n",
              "\n",
              "        async function convertToInteractive(key) {\n",
              "          const element = document.querySelector('#df-9df8bc52-614e-46c6-ba6b-7860211e4a1f');\n",
              "          const dataTable =\n",
              "            await google.colab.kernel.invokeFunction('convertToInteractive',\n",
              "                                                     [key], {});\n",
              "          if (!dataTable) return;\n",
              "\n",
              "          const docLinkHtml = 'Like what you see? Visit the ' +\n",
              "            '<a target=\"_blank\" href=https://colab.research.google.com/notebooks/data_table.ipynb>data table notebook</a>'\n",
              "            + ' to learn more about interactive tables.';\n",
              "          element.innerHTML = '';\n",
              "          dataTable['output_type'] = 'display_data';\n",
              "          await google.colab.output.renderOutput(dataTable, element);\n",
              "          const docLink = document.createElement('div');\n",
              "          docLink.innerHTML = docLinkHtml;\n",
              "          element.appendChild(docLink);\n",
              "        }\n",
              "      </script>\n",
              "    </div>\n",
              "  </div>\n",
              "  "
            ]
          },
          "metadata": {},
          "execution_count": 11
        }
      ],
      "source": [
        "#Print the first five entries\n",
        "df.head()"
      ]
    },
    {
      "cell_type": "code",
      "execution_count": null,
      "id": "862e8e05",
      "metadata": {
        "colab": {
          "base_uri": "https://localhost:8080/"
        },
        "id": "862e8e05",
        "outputId": "d8cfafbe-a629-4532-901b-2e4f6da4114f"
      },
      "outputs": [
        {
          "output_type": "execute_result",
          "data": {
            "text/plain": [
              "(156, 5600)"
            ]
          },
          "metadata": {},
          "execution_count": 12
        }
      ],
      "source": [
        "#Print the shape of the dataframe\n",
        "df.shape"
      ]
    },
    {
      "cell_type": "code",
      "execution_count": null,
      "id": "4ec85307",
      "metadata": {
        "colab": {
          "base_uri": "https://localhost:8080/",
          "height": 487
        },
        "id": "4ec85307",
        "outputId": "f4de710f-9ce1-48c8-a32c-18594c17c8d7"
      },
      "outputs": [
        {
          "output_type": "execute_result",
          "data": {
            "text/plain": [
              "      0      1      2      3      4      5      6      7      8      9     \\\n",
              "0    False  False  False  False  False  False  False  False  False  False   \n",
              "1    False  False  False  False  False  False  False  False  False  False   \n",
              "2    False  False  False  False  False  False  False  False  False  False   \n",
              "3    False  False  False  False  False  False  False  False  False  False   \n",
              "4    False  False  False  False  False  False  False  False  False  False   \n",
              "..     ...    ...    ...    ...    ...    ...    ...    ...    ...    ...   \n",
              "151  False  False  False  False  False  False  False  False  False  False   \n",
              "152  False  False  False  False  False  False  False  False  False  False   \n",
              "153  False  False  False  False  False  False  False  False  False  False   \n",
              "154  False  False  False  False  False  False  False  False  False  False   \n",
              "155  False  False  False  False  False  False  False  False  False  False   \n",
              "\n",
              "     ...   5590   5591   5592   5593   5594   5595   5596   5597   5598   5599  \n",
              "0    ...  False  False  False  False  False  False  False  False  False  False  \n",
              "1    ...  False  False  False  False  False  False  False  False  False  False  \n",
              "2    ...  False  False  False  False  False  False  False  False  False  False  \n",
              "3    ...  False  False  False  False  False  False  False  False  False  False  \n",
              "4    ...  False  False  False  False  False  False  False  False  False  False  \n",
              "..   ...    ...    ...    ...    ...    ...    ...    ...    ...    ...    ...  \n",
              "151  ...  False  False  False  False  False  False  False  False  False  False  \n",
              "152  ...  False  False  False  False  False  False  False  False  False  False  \n",
              "153  ...  False  False  False  False  False  False  False  False  False  False  \n",
              "154  ...  False  False  False  False  False  False  False  False  False  False  \n",
              "155  ...  False  False  False  False  False  False  False  False  False  False  \n",
              "\n",
              "[156 rows x 5600 columns]"
            ],
            "text/html": [
              "\n",
              "  <div id=\"df-8ca89e4f-cb4c-4c6d-b101-eb5497a8e9ca\">\n",
              "    <div class=\"colab-df-container\">\n",
              "      <div>\n",
              "<style scoped>\n",
              "    .dataframe tbody tr th:only-of-type {\n",
              "        vertical-align: middle;\n",
              "    }\n",
              "\n",
              "    .dataframe tbody tr th {\n",
              "        vertical-align: top;\n",
              "    }\n",
              "\n",
              "    .dataframe thead th {\n",
              "        text-align: right;\n",
              "    }\n",
              "</style>\n",
              "<table border=\"1\" class=\"dataframe\">\n",
              "  <thead>\n",
              "    <tr style=\"text-align: right;\">\n",
              "      <th></th>\n",
              "      <th>0</th>\n",
              "      <th>1</th>\n",
              "      <th>2</th>\n",
              "      <th>3</th>\n",
              "      <th>4</th>\n",
              "      <th>5</th>\n",
              "      <th>6</th>\n",
              "      <th>7</th>\n",
              "      <th>8</th>\n",
              "      <th>9</th>\n",
              "      <th>...</th>\n",
              "      <th>5590</th>\n",
              "      <th>5591</th>\n",
              "      <th>5592</th>\n",
              "      <th>5593</th>\n",
              "      <th>5594</th>\n",
              "      <th>5595</th>\n",
              "      <th>5596</th>\n",
              "      <th>5597</th>\n",
              "      <th>5598</th>\n",
              "      <th>5599</th>\n",
              "    </tr>\n",
              "  </thead>\n",
              "  <tbody>\n",
              "    <tr>\n",
              "      <th>0</th>\n",
              "      <td>False</td>\n",
              "      <td>False</td>\n",
              "      <td>False</td>\n",
              "      <td>False</td>\n",
              "      <td>False</td>\n",
              "      <td>False</td>\n",
              "      <td>False</td>\n",
              "      <td>False</td>\n",
              "      <td>False</td>\n",
              "      <td>False</td>\n",
              "      <td>...</td>\n",
              "      <td>False</td>\n",
              "      <td>False</td>\n",
              "      <td>False</td>\n",
              "      <td>False</td>\n",
              "      <td>False</td>\n",
              "      <td>False</td>\n",
              "      <td>False</td>\n",
              "      <td>False</td>\n",
              "      <td>False</td>\n",
              "      <td>False</td>\n",
              "    </tr>\n",
              "    <tr>\n",
              "      <th>1</th>\n",
              "      <td>False</td>\n",
              "      <td>False</td>\n",
              "      <td>False</td>\n",
              "      <td>False</td>\n",
              "      <td>False</td>\n",
              "      <td>False</td>\n",
              "      <td>False</td>\n",
              "      <td>False</td>\n",
              "      <td>False</td>\n",
              "      <td>False</td>\n",
              "      <td>...</td>\n",
              "      <td>False</td>\n",
              "      <td>False</td>\n",
              "      <td>False</td>\n",
              "      <td>False</td>\n",
              "      <td>False</td>\n",
              "      <td>False</td>\n",
              "      <td>False</td>\n",
              "      <td>False</td>\n",
              "      <td>False</td>\n",
              "      <td>False</td>\n",
              "    </tr>\n",
              "    <tr>\n",
              "      <th>2</th>\n",
              "      <td>False</td>\n",
              "      <td>False</td>\n",
              "      <td>False</td>\n",
              "      <td>False</td>\n",
              "      <td>False</td>\n",
              "      <td>False</td>\n",
              "      <td>False</td>\n",
              "      <td>False</td>\n",
              "      <td>False</td>\n",
              "      <td>False</td>\n",
              "      <td>...</td>\n",
              "      <td>False</td>\n",
              "      <td>False</td>\n",
              "      <td>False</td>\n",
              "      <td>False</td>\n",
              "      <td>False</td>\n",
              "      <td>False</td>\n",
              "      <td>False</td>\n",
              "      <td>False</td>\n",
              "      <td>False</td>\n",
              "      <td>False</td>\n",
              "    </tr>\n",
              "    <tr>\n",
              "      <th>3</th>\n",
              "      <td>False</td>\n",
              "      <td>False</td>\n",
              "      <td>False</td>\n",
              "      <td>False</td>\n",
              "      <td>False</td>\n",
              "      <td>False</td>\n",
              "      <td>False</td>\n",
              "      <td>False</td>\n",
              "      <td>False</td>\n",
              "      <td>False</td>\n",
              "      <td>...</td>\n",
              "      <td>False</td>\n",
              "      <td>False</td>\n",
              "      <td>False</td>\n",
              "      <td>False</td>\n",
              "      <td>False</td>\n",
              "      <td>False</td>\n",
              "      <td>False</td>\n",
              "      <td>False</td>\n",
              "      <td>False</td>\n",
              "      <td>False</td>\n",
              "    </tr>\n",
              "    <tr>\n",
              "      <th>4</th>\n",
              "      <td>False</td>\n",
              "      <td>False</td>\n",
              "      <td>False</td>\n",
              "      <td>False</td>\n",
              "      <td>False</td>\n",
              "      <td>False</td>\n",
              "      <td>False</td>\n",
              "      <td>False</td>\n",
              "      <td>False</td>\n",
              "      <td>False</td>\n",
              "      <td>...</td>\n",
              "      <td>False</td>\n",
              "      <td>False</td>\n",
              "      <td>False</td>\n",
              "      <td>False</td>\n",
              "      <td>False</td>\n",
              "      <td>False</td>\n",
              "      <td>False</td>\n",
              "      <td>False</td>\n",
              "      <td>False</td>\n",
              "      <td>False</td>\n",
              "    </tr>\n",
              "    <tr>\n",
              "      <th>...</th>\n",
              "      <td>...</td>\n",
              "      <td>...</td>\n",
              "      <td>...</td>\n",
              "      <td>...</td>\n",
              "      <td>...</td>\n",
              "      <td>...</td>\n",
              "      <td>...</td>\n",
              "      <td>...</td>\n",
              "      <td>...</td>\n",
              "      <td>...</td>\n",
              "      <td>...</td>\n",
              "      <td>...</td>\n",
              "      <td>...</td>\n",
              "      <td>...</td>\n",
              "      <td>...</td>\n",
              "      <td>...</td>\n",
              "      <td>...</td>\n",
              "      <td>...</td>\n",
              "      <td>...</td>\n",
              "      <td>...</td>\n",
              "      <td>...</td>\n",
              "    </tr>\n",
              "    <tr>\n",
              "      <th>151</th>\n",
              "      <td>False</td>\n",
              "      <td>False</td>\n",
              "      <td>False</td>\n",
              "      <td>False</td>\n",
              "      <td>False</td>\n",
              "      <td>False</td>\n",
              "      <td>False</td>\n",
              "      <td>False</td>\n",
              "      <td>False</td>\n",
              "      <td>False</td>\n",
              "      <td>...</td>\n",
              "      <td>False</td>\n",
              "      <td>False</td>\n",
              "      <td>False</td>\n",
              "      <td>False</td>\n",
              "      <td>False</td>\n",
              "      <td>False</td>\n",
              "      <td>False</td>\n",
              "      <td>False</td>\n",
              "      <td>False</td>\n",
              "      <td>False</td>\n",
              "    </tr>\n",
              "    <tr>\n",
              "      <th>152</th>\n",
              "      <td>False</td>\n",
              "      <td>False</td>\n",
              "      <td>False</td>\n",
              "      <td>False</td>\n",
              "      <td>False</td>\n",
              "      <td>False</td>\n",
              "      <td>False</td>\n",
              "      <td>False</td>\n",
              "      <td>False</td>\n",
              "      <td>False</td>\n",
              "      <td>...</td>\n",
              "      <td>False</td>\n",
              "      <td>False</td>\n",
              "      <td>False</td>\n",
              "      <td>False</td>\n",
              "      <td>False</td>\n",
              "      <td>False</td>\n",
              "      <td>False</td>\n",
              "      <td>False</td>\n",
              "      <td>False</td>\n",
              "      <td>False</td>\n",
              "    </tr>\n",
              "    <tr>\n",
              "      <th>153</th>\n",
              "      <td>False</td>\n",
              "      <td>False</td>\n",
              "      <td>False</td>\n",
              "      <td>False</td>\n",
              "      <td>False</td>\n",
              "      <td>False</td>\n",
              "      <td>False</td>\n",
              "      <td>False</td>\n",
              "      <td>False</td>\n",
              "      <td>False</td>\n",
              "      <td>...</td>\n",
              "      <td>False</td>\n",
              "      <td>False</td>\n",
              "      <td>False</td>\n",
              "      <td>False</td>\n",
              "      <td>False</td>\n",
              "      <td>False</td>\n",
              "      <td>False</td>\n",
              "      <td>False</td>\n",
              "      <td>False</td>\n",
              "      <td>False</td>\n",
              "    </tr>\n",
              "    <tr>\n",
              "      <th>154</th>\n",
              "      <td>False</td>\n",
              "      <td>False</td>\n",
              "      <td>False</td>\n",
              "      <td>False</td>\n",
              "      <td>False</td>\n",
              "      <td>False</td>\n",
              "      <td>False</td>\n",
              "      <td>False</td>\n",
              "      <td>False</td>\n",
              "      <td>False</td>\n",
              "      <td>...</td>\n",
              "      <td>False</td>\n",
              "      <td>False</td>\n",
              "      <td>False</td>\n",
              "      <td>False</td>\n",
              "      <td>False</td>\n",
              "      <td>False</td>\n",
              "      <td>False</td>\n",
              "      <td>False</td>\n",
              "      <td>False</td>\n",
              "      <td>False</td>\n",
              "    </tr>\n",
              "    <tr>\n",
              "      <th>155</th>\n",
              "      <td>False</td>\n",
              "      <td>False</td>\n",
              "      <td>False</td>\n",
              "      <td>False</td>\n",
              "      <td>False</td>\n",
              "      <td>False</td>\n",
              "      <td>False</td>\n",
              "      <td>False</td>\n",
              "      <td>False</td>\n",
              "      <td>False</td>\n",
              "      <td>...</td>\n",
              "      <td>False</td>\n",
              "      <td>False</td>\n",
              "      <td>False</td>\n",
              "      <td>False</td>\n",
              "      <td>False</td>\n",
              "      <td>False</td>\n",
              "      <td>False</td>\n",
              "      <td>False</td>\n",
              "      <td>False</td>\n",
              "      <td>False</td>\n",
              "    </tr>\n",
              "  </tbody>\n",
              "</table>\n",
              "<p>156 rows × 5600 columns</p>\n",
              "</div>\n",
              "      <button class=\"colab-df-convert\" onclick=\"convertToInteractive('df-8ca89e4f-cb4c-4c6d-b101-eb5497a8e9ca')\"\n",
              "              title=\"Convert this dataframe to an interactive table.\"\n",
              "              style=\"display:none;\">\n",
              "        \n",
              "  <svg xmlns=\"http://www.w3.org/2000/svg\" height=\"24px\"viewBox=\"0 0 24 24\"\n",
              "       width=\"24px\">\n",
              "    <path d=\"M0 0h24v24H0V0z\" fill=\"none\"/>\n",
              "    <path d=\"M18.56 5.44l.94 2.06.94-2.06 2.06-.94-2.06-.94-.94-2.06-.94 2.06-2.06.94zm-11 1L8.5 8.5l.94-2.06 2.06-.94-2.06-.94L8.5 2.5l-.94 2.06-2.06.94zm10 10l.94 2.06.94-2.06 2.06-.94-2.06-.94-.94-2.06-.94 2.06-2.06.94z\"/><path d=\"M17.41 7.96l-1.37-1.37c-.4-.4-.92-.59-1.43-.59-.52 0-1.04.2-1.43.59L10.3 9.45l-7.72 7.72c-.78.78-.78 2.05 0 2.83L4 21.41c.39.39.9.59 1.41.59.51 0 1.02-.2 1.41-.59l7.78-7.78 2.81-2.81c.8-.78.8-2.07 0-2.86zM5.41 20L4 18.59l7.72-7.72 1.47 1.35L5.41 20z\"/>\n",
              "  </svg>\n",
              "      </button>\n",
              "      \n",
              "  <style>\n",
              "    .colab-df-container {\n",
              "      display:flex;\n",
              "      flex-wrap:wrap;\n",
              "      gap: 12px;\n",
              "    }\n",
              "\n",
              "    .colab-df-convert {\n",
              "      background-color: #E8F0FE;\n",
              "      border: none;\n",
              "      border-radius: 50%;\n",
              "      cursor: pointer;\n",
              "      display: none;\n",
              "      fill: #1967D2;\n",
              "      height: 32px;\n",
              "      padding: 0 0 0 0;\n",
              "      width: 32px;\n",
              "    }\n",
              "\n",
              "    .colab-df-convert:hover {\n",
              "      background-color: #E2EBFA;\n",
              "      box-shadow: 0px 1px 2px rgba(60, 64, 67, 0.3), 0px 1px 3px 1px rgba(60, 64, 67, 0.15);\n",
              "      fill: #174EA6;\n",
              "    }\n",
              "\n",
              "    [theme=dark] .colab-df-convert {\n",
              "      background-color: #3B4455;\n",
              "      fill: #D2E3FC;\n",
              "    }\n",
              "\n",
              "    [theme=dark] .colab-df-convert:hover {\n",
              "      background-color: #434B5C;\n",
              "      box-shadow: 0px 1px 3px 1px rgba(0, 0, 0, 0.15);\n",
              "      filter: drop-shadow(0px 1px 2px rgba(0, 0, 0, 0.3));\n",
              "      fill: #FFFFFF;\n",
              "    }\n",
              "  </style>\n",
              "\n",
              "      <script>\n",
              "        const buttonEl =\n",
              "          document.querySelector('#df-8ca89e4f-cb4c-4c6d-b101-eb5497a8e9ca button.colab-df-convert');\n",
              "        buttonEl.style.display =\n",
              "          google.colab.kernel.accessAllowed ? 'block' : 'none';\n",
              "\n",
              "        async function convertToInteractive(key) {\n",
              "          const element = document.querySelector('#df-8ca89e4f-cb4c-4c6d-b101-eb5497a8e9ca');\n",
              "          const dataTable =\n",
              "            await google.colab.kernel.invokeFunction('convertToInteractive',\n",
              "                                                     [key], {});\n",
              "          if (!dataTable) return;\n",
              "\n",
              "          const docLinkHtml = 'Like what you see? Visit the ' +\n",
              "            '<a target=\"_blank\" href=https://colab.research.google.com/notebooks/data_table.ipynb>data table notebook</a>'\n",
              "            + ' to learn more about interactive tables.';\n",
              "          element.innerHTML = '';\n",
              "          dataTable['output_type'] = 'display_data';\n",
              "          await google.colab.output.renderOutput(dataTable, element);\n",
              "          const docLink = document.createElement('div');\n",
              "          docLink.innerHTML = docLinkHtml;\n",
              "          element.appendChild(docLink);\n",
              "        }\n",
              "      </script>\n",
              "    </div>\n",
              "  </div>\n",
              "  "
            ]
          },
          "metadata": {},
          "execution_count": 13
        }
      ],
      "source": [
        "#Checking for null values\n",
        "df.isna()"
      ]
    },
    {
      "cell_type": "code",
      "execution_count": null,
      "id": "02f8b8da",
      "metadata": {
        "id": "02f8b8da"
      },
      "outputs": [],
      "source": [
        "df.loc[0:51,5600]=1\n",
        "df.loc[52:103,5600]=2\n",
        "df.loc[104:156,5600]=3"
      ]
    },
    {
      "cell_type": "code",
      "execution_count": null,
      "id": "54f3d449",
      "metadata": {
        "colab": {
          "base_uri": "https://localhost:8080/"
        },
        "id": "54f3d449",
        "outputId": "49c0393a-2156-48a3-a5ca-73b4999656e8"
      },
      "outputs": [
        {
          "output_type": "execute_result",
          "data": {
            "text/plain": [
              "0      1.0\n",
              "1      1.0\n",
              "2      1.0\n",
              "3      1.0\n",
              "4      1.0\n",
              "      ... \n",
              "151    3.0\n",
              "152    3.0\n",
              "153    3.0\n",
              "154    3.0\n",
              "155    3.0\n",
              "Name: 5600, Length: 156, dtype: float64"
            ]
          },
          "metadata": {},
          "execution_count": 15
        }
      ],
      "source": [
        " # Seperating features and labels\n",
        "data =  df.loc[:,0 : 5599]  # Features\n",
        "label = df[5600] # targets\n",
        "label"
      ]
    },
    {
      "cell_type": "code",
      "execution_count": null,
      "id": "b2c5e269",
      "metadata": {
        "colab": {
          "base_uri": "https://localhost:8080/"
        },
        "id": "b2c5e269",
        "outputId": "8abb0f92-0540-4703-947d-fb771327b598"
      },
      "outputs": [
        {
          "output_type": "execute_result",
          "data": {
            "text/plain": [
              "1.0    52\n",
              "2.0    52\n",
              "3.0    52\n",
              "Name: 5600, dtype: int64"
            ]
          },
          "metadata": {},
          "execution_count": 16
        }
      ],
      "source": [
        "#Print the count of instances in each class\n",
        "label.value_counts()"
      ]
    },
    {
      "cell_type": "code",
      "execution_count": null,
      "id": "7af497a2",
      "metadata": {
        "colab": {
          "base_uri": "https://localhost:8080/",
          "height": 319
        },
        "id": "7af497a2",
        "outputId": "13906d91-1a79-4a62-f140-78b771e5cfe5"
      },
      "outputs": [
        {
          "output_type": "execute_result",
          "data": {
            "text/plain": [
              "<matplotlib.axes._subplots.AxesSubplot at 0x7fd53a9da550>"
            ]
          },
          "metadata": {},
          "execution_count": 17
        },
        {
          "output_type": "display_data",
          "data": {
            "text/plain": [
              "<Figure size 432x288 with 1 Axes>"
            ],
            "image/png": "[encoded data removed]"
          },
          "metadata": {
            "needs_background": "light"
          }
        }
      ],
      "source": [
        "#Plot the class distribution\n",
        "label.value_counts().plot(kind='bar', title=\"Class Frequency \", \n",
        "                                 xlabel=\"Type\", \n",
        "                                 ylabel=\"Count\")"
      ]
    },
    {
      "cell_type": "code",
      "execution_count": null,
      "id": "46af3047",
      "metadata": {
        "colab": {
          "base_uri": "https://localhost:8080/"
        },
        "id": "46af3047",
        "outputId": "03347ec1-fca9-45f7-a5d0-b20e2db9a8e9"
      },
      "outputs": [
        {
          "output_type": "stream",
          "name": "stdout",
          "text": [
            "Train Samples (124, 5600)\n",
            "Test Samples (32, 5600)\n"
          ]
        }
      ],
      "source": [
        "#Split the data to train test 80:20\n",
        "X_train,X_test,Y_train,Y_test = train_test_split(data,label,test_size=0.2,random_state=432)\n",
        "print(\"Train Samples\",X_train.shape)\n",
        "print(\"Test Samples\",X_test.shape)"
      ]
    },
    {
      "cell_type": "code",
      "execution_count": null,
      "id": "2a69f20c",
      "metadata": {
        "id": "2a69f20c"
      },
      "outputs": [],
      "source": [
        "X_train=X_train.abs()#*100000\n",
        "X_test=X_test.abs() #*100000"
      ]
    },
    {
      "cell_type": "code",
      "execution_count": null,
      "id": "791a5a9d",
      "metadata": {
        "id": "791a5a9d",
        "outputId": "0b092adc-e47c-4c6e-ead5-cac469975c0a"
      },
      "outputs": [
        {
          "data": {
            "text/html": [
              "<div>\n",
              "<style scoped>\n",
              "    .dataframe tbody tr th:only-of-type {\n",
              "        vertical-align: middle;\n",
              "    }\n",
              "\n",
              "    .dataframe tbody tr th {\n",
              "        vertical-align: top;\n",
              "    }\n",
              "\n",
              "    .dataframe thead th {\n",
              "        text-align: right;\n",
              "    }\n",
              "</style>\n",
              "<table border=\"1\" class=\"dataframe\">\n",
              "  <thead>\n",
              "    <tr style=\"text-align: right;\">\n",
              "      <th></th>\n",
              "      <th>0</th>\n",
              "      <th>1</th>\n",
              "      <th>2</th>\n",
              "      <th>3</th>\n",
              "      <th>4</th>\n",
              "      <th>5</th>\n",
              "      <th>6</th>\n",
              "      <th>7</th>\n",
              "      <th>8</th>\n",
              "      <th>9</th>\n",
              "      <th>...</th>\n",
              "      <th>5590</th>\n",
              "      <th>5591</th>\n",
              "      <th>5592</th>\n",
              "      <th>5593</th>\n",
              "      <th>5594</th>\n",
              "      <th>5595</th>\n",
              "      <th>5596</th>\n",
              "      <th>5597</th>\n",
              "      <th>5598</th>\n",
              "      <th>5599</th>\n",
              "    </tr>\n",
              "  </thead>\n",
              "  <tbody>\n",
              "    <tr>\n",
              "      <th>143</th>\n",
              "      <td>0.999979</td>\n",
              "      <td>0.999979</td>\n",
              "      <td>0.999979</td>\n",
              "      <td>0.999979</td>\n",
              "      <td>0.999979</td>\n",
              "      <td>0.999979</td>\n",
              "      <td>0.999979</td>\n",
              "      <td>0.999979</td>\n",
              "      <td>0.999979</td>\n",
              "      <td>0.999979</td>\n",
              "      <td>...</td>\n",
              "      <td>0.005501</td>\n",
              "      <td>0.005503</td>\n",
              "      <td>0.005506</td>\n",
              "      <td>0.005508</td>\n",
              "      <td>0.005510</td>\n",
              "      <td>0.005512</td>\n",
              "      <td>0.005513</td>\n",
              "      <td>0.005515</td>\n",
              "      <td>0.005517</td>\n",
              "      <td>0.005518</td>\n",
              "    </tr>\n",
              "    <tr>\n",
              "      <th>52</th>\n",
              "      <td>0.454487</td>\n",
              "      <td>0.453944</td>\n",
              "      <td>0.453327</td>\n",
              "      <td>0.452635</td>\n",
              "      <td>0.451867</td>\n",
              "      <td>0.451024</td>\n",
              "      <td>0.450106</td>\n",
              "      <td>0.449113</td>\n",
              "      <td>0.448045</td>\n",
              "      <td>0.446903</td>\n",
              "      <td>...</td>\n",
              "      <td>0.654000</td>\n",
              "      <td>0.653480</td>\n",
              "      <td>0.652957</td>\n",
              "      <td>0.652431</td>\n",
              "      <td>0.651901</td>\n",
              "      <td>0.651368</td>\n",
              "      <td>0.650833</td>\n",
              "      <td>0.650296</td>\n",
              "      <td>0.649757</td>\n",
              "      <td>0.649216</td>\n",
              "    </tr>\n",
              "    <tr>\n",
              "      <th>18</th>\n",
              "      <td>0.959463</td>\n",
              "      <td>0.959374</td>\n",
              "      <td>0.959285</td>\n",
              "      <td>0.959197</td>\n",
              "      <td>0.959111</td>\n",
              "      <td>0.959025</td>\n",
              "      <td>0.958940</td>\n",
              "      <td>0.958857</td>\n",
              "      <td>0.958774</td>\n",
              "      <td>0.958692</td>\n",
              "      <td>...</td>\n",
              "      <td>0.107381</td>\n",
              "      <td>0.106958</td>\n",
              "      <td>0.106535</td>\n",
              "      <td>0.106112</td>\n",
              "      <td>0.105689</td>\n",
              "      <td>0.105265</td>\n",
              "      <td>0.104842</td>\n",
              "      <td>0.104420</td>\n",
              "      <td>0.103997</td>\n",
              "      <td>0.103576</td>\n",
              "    </tr>\n",
              "    <tr>\n",
              "      <th>113</th>\n",
              "      <td>0.999994</td>\n",
              "      <td>0.999994</td>\n",
              "      <td>0.999994</td>\n",
              "      <td>0.999994</td>\n",
              "      <td>0.999994</td>\n",
              "      <td>0.999994</td>\n",
              "      <td>0.999994</td>\n",
              "      <td>0.999994</td>\n",
              "      <td>0.999994</td>\n",
              "      <td>0.999994</td>\n",
              "      <td>...</td>\n",
              "      <td>0.005998</td>\n",
              "      <td>0.005991</td>\n",
              "      <td>0.005983</td>\n",
              "      <td>0.005975</td>\n",
              "      <td>0.005966</td>\n",
              "      <td>0.005958</td>\n",
              "      <td>0.005949</td>\n",
              "      <td>0.005940</td>\n",
              "      <td>0.005931</td>\n",
              "      <td>0.005921</td>\n",
              "    </tr>\n",
              "    <tr>\n",
              "      <th>37</th>\n",
              "      <td>0.997563</td>\n",
              "      <td>0.997574</td>\n",
              "      <td>0.997586</td>\n",
              "      <td>0.997598</td>\n",
              "      <td>0.997611</td>\n",
              "      <td>0.997625</td>\n",
              "      <td>0.997639</td>\n",
              "      <td>0.997655</td>\n",
              "      <td>0.997671</td>\n",
              "      <td>0.997688</td>\n",
              "      <td>...</td>\n",
              "      <td>0.023561</td>\n",
              "      <td>0.023143</td>\n",
              "      <td>0.022723</td>\n",
              "      <td>0.022301</td>\n",
              "      <td>0.021876</td>\n",
              "      <td>0.021450</td>\n",
              "      <td>0.021023</td>\n",
              "      <td>0.020594</td>\n",
              "      <td>0.020164</td>\n",
              "      <td>0.019732</td>\n",
              "    </tr>\n",
              "    <tr>\n",
              "      <th>...</th>\n",
              "      <td>...</td>\n",
              "      <td>...</td>\n",
              "      <td>...</td>\n",
              "      <td>...</td>\n",
              "      <td>...</td>\n",
              "      <td>...</td>\n",
              "      <td>...</td>\n",
              "      <td>...</td>\n",
              "      <td>...</td>\n",
              "      <td>...</td>\n",
              "      <td>...</td>\n",
              "      <td>...</td>\n",
              "      <td>...</td>\n",
              "      <td>...</td>\n",
              "      <td>...</td>\n",
              "      <td>...</td>\n",
              "      <td>...</td>\n",
              "      <td>...</td>\n",
              "      <td>...</td>\n",
              "      <td>...</td>\n",
              "      <td>...</td>\n",
              "    </tr>\n",
              "    <tr>\n",
              "      <th>15</th>\n",
              "      <td>0.995381</td>\n",
              "      <td>0.995384</td>\n",
              "      <td>0.995388</td>\n",
              "      <td>0.995391</td>\n",
              "      <td>0.995396</td>\n",
              "      <td>0.995400</td>\n",
              "      <td>0.995405</td>\n",
              "      <td>0.995410</td>\n",
              "      <td>0.995416</td>\n",
              "      <td>0.995421</td>\n",
              "      <td>...</td>\n",
              "      <td>0.114971</td>\n",
              "      <td>0.114905</td>\n",
              "      <td>0.114838</td>\n",
              "      <td>0.114769</td>\n",
              "      <td>0.114699</td>\n",
              "      <td>0.114628</td>\n",
              "      <td>0.114555</td>\n",
              "      <td>0.114482</td>\n",
              "      <td>0.114407</td>\n",
              "      <td>0.114331</td>\n",
              "    </tr>\n",
              "    <tr>\n",
              "      <th>96</th>\n",
              "      <td>0.994523</td>\n",
              "      <td>0.994321</td>\n",
              "      <td>0.994113</td>\n",
              "      <td>0.993899</td>\n",
              "      <td>0.993680</td>\n",
              "      <td>0.993455</td>\n",
              "      <td>0.993225</td>\n",
              "      <td>0.992989</td>\n",
              "      <td>0.992748</td>\n",
              "      <td>0.992502</td>\n",
              "      <td>...</td>\n",
              "      <td>0.699351</td>\n",
              "      <td>0.701101</td>\n",
              "      <td>0.702812</td>\n",
              "      <td>0.704485</td>\n",
              "      <td>0.706118</td>\n",
              "      <td>0.707711</td>\n",
              "      <td>0.709264</td>\n",
              "      <td>0.710776</td>\n",
              "      <td>0.712247</td>\n",
              "      <td>0.713678</td>\n",
              "    </tr>\n",
              "    <tr>\n",
              "      <th>107</th>\n",
              "      <td>0.999997</td>\n",
              "      <td>0.999997</td>\n",
              "      <td>0.999997</td>\n",
              "      <td>0.999997</td>\n",
              "      <td>0.999997</td>\n",
              "      <td>0.999997</td>\n",
              "      <td>0.999997</td>\n",
              "      <td>0.999997</td>\n",
              "      <td>0.999997</td>\n",
              "      <td>0.999997</td>\n",
              "      <td>...</td>\n",
              "      <td>0.001989</td>\n",
              "      <td>0.001988</td>\n",
              "      <td>0.001987</td>\n",
              "      <td>0.001987</td>\n",
              "      <td>0.001986</td>\n",
              "      <td>0.001986</td>\n",
              "      <td>0.001985</td>\n",
              "      <td>0.001984</td>\n",
              "      <td>0.001984</td>\n",
              "      <td>0.001983</td>\n",
              "    </tr>\n",
              "    <tr>\n",
              "      <th>128</th>\n",
              "      <td>0.999992</td>\n",
              "      <td>0.999992</td>\n",
              "      <td>0.999992</td>\n",
              "      <td>0.999992</td>\n",
              "      <td>0.999992</td>\n",
              "      <td>0.999992</td>\n",
              "      <td>0.999992</td>\n",
              "      <td>0.999992</td>\n",
              "      <td>0.999992</td>\n",
              "      <td>0.999992</td>\n",
              "      <td>...</td>\n",
              "      <td>0.000172</td>\n",
              "      <td>0.000178</td>\n",
              "      <td>0.000184</td>\n",
              "      <td>0.000190</td>\n",
              "      <td>0.000196</td>\n",
              "      <td>0.000202</td>\n",
              "      <td>0.000208</td>\n",
              "      <td>0.000214</td>\n",
              "      <td>0.000221</td>\n",
              "      <td>0.000227</td>\n",
              "    </tr>\n",
              "    <tr>\n",
              "      <th>134</th>\n",
              "      <td>0.989273</td>\n",
              "      <td>0.989255</td>\n",
              "      <td>0.989237</td>\n",
              "      <td>0.989220</td>\n",
              "      <td>0.989204</td>\n",
              "      <td>0.989189</td>\n",
              "      <td>0.989174</td>\n",
              "      <td>0.989160</td>\n",
              "      <td>0.989146</td>\n",
              "      <td>0.989133</td>\n",
              "      <td>...</td>\n",
              "      <td>0.257035</td>\n",
              "      <td>0.257011</td>\n",
              "      <td>0.256984</td>\n",
              "      <td>0.256955</td>\n",
              "      <td>0.256924</td>\n",
              "      <td>0.256891</td>\n",
              "      <td>0.256856</td>\n",
              "      <td>0.256819</td>\n",
              "      <td>0.256780</td>\n",
              "      <td>0.256740</td>\n",
              "    </tr>\n",
              "  </tbody>\n",
              "</table>\n",
              "<p>124 rows × 5600 columns</p>\n",
              "</div>"
            ],
            "text/plain": [
              "         0         1         2         3         4         5         6     \\\n",
              "143  0.999979  0.999979  0.999979  0.999979  0.999979  0.999979  0.999979   \n",
              "52   0.454487  0.453944  0.453327  0.452635  0.451867  0.451024  0.450106   \n",
              "18   0.959463  0.959374  0.959285  0.959197  0.959111  0.959025  0.958940   \n",
              "113  0.999994  0.999994  0.999994  0.999994  0.999994  0.999994  0.999994   \n",
              "37   0.997563  0.997574  0.997586  0.997598  0.997611  0.997625  0.997639   \n",
              "..        ...       ...       ...       ...       ...       ...       ...   \n",
              "15   0.995381  0.995384  0.995388  0.995391  0.995396  0.995400  0.995405   \n",
              "96   0.994523  0.994321  0.994113  0.993899  0.993680  0.993455  0.993225   \n",
              "107  0.999997  0.999997  0.999997  0.999997  0.999997  0.999997  0.999997   \n",
              "128  0.999992  0.999992  0.999992  0.999992  0.999992  0.999992  0.999992   \n",
              "134  0.989273  0.989255  0.989237  0.989220  0.989204  0.989189  0.989174   \n",
              "\n",
              "         7         8         9     ...      5590      5591      5592  \\\n",
              "143  0.999979  0.999979  0.999979  ...  0.005501  0.005503  0.005506   \n",
              "52   0.449113  0.448045  0.446903  ...  0.654000  0.653480  0.652957   \n",
              "18   0.958857  0.958774  0.958692  ...  0.107381  0.106958  0.106535   \n",
              "113  0.999994  0.999994  0.999994  ...  0.005998  0.005991  0.005983   \n",
              "37   0.997655  0.997671  0.997688  ...  0.023561  0.023143  0.022723   \n",
              "..        ...       ...       ...  ...       ...       ...       ...   \n",
              "15   0.995410  0.995416  0.995421  ...  0.114971  0.114905  0.114838   \n",
              "96   0.992989  0.992748  0.992502  ...  0.699351  0.701101  0.702812   \n",
              "107  0.999997  0.999997  0.999997  ...  0.001989  0.001988  0.001987   \n",
              "128  0.999992  0.999992  0.999992  ...  0.000172  0.000178  0.000184   \n",
              "134  0.989160  0.989146  0.989133  ...  0.257035  0.257011  0.256984   \n",
              "\n",
              "         5593      5594      5595      5596      5597      5598      5599  \n",
              "143  0.005508  0.005510  0.005512  0.005513  0.005515  0.005517  0.005518  \n",
              "52   0.652431  0.651901  0.651368  0.650833  0.650296  0.649757  0.649216  \n",
              "18   0.106112  0.105689  0.105265  0.104842  0.104420  0.103997  0.103576  \n",
              "113  0.005975  0.005966  0.005958  0.005949  0.005940  0.005931  0.005921  \n",
              "37   0.022301  0.021876  0.021450  0.021023  0.020594  0.020164  0.019732  \n",
              "..        ...       ...       ...       ...       ...       ...       ...  \n",
              "15   0.114769  0.114699  0.114628  0.114555  0.114482  0.114407  0.114331  \n",
              "96   0.704485  0.706118  0.707711  0.709264  0.710776  0.712247  0.713678  \n",
              "107  0.001987  0.001986  0.001986  0.001985  0.001984  0.001984  0.001983  \n",
              "128  0.000190  0.000196  0.000202  0.000208  0.000214  0.000221  0.000227  \n",
              "134  0.256955  0.256924  0.256891  0.256856  0.256819  0.256780  0.256740  \n",
              "\n",
              "[124 rows x 5600 columns]"
            ]
          },
          "execution_count": 31,
          "metadata": {},
          "output_type": "execute_result"
        }
      ],
      "source": [
        "X_train"
      ]
    },
    {
      "cell_type": "code",
      "execution_count": null,
      "id": "995eb0cc",
      "metadata": {
        "id": "995eb0cc"
      },
      "outputs": [],
      "source": [
        "# Feature Scaling\n",
        "sc = StandardScaler()\n",
        "X_trains = sc.fit_transform(X_train)\n",
        "X_tests = sc.transform(X_test)"
      ]
    },
    {
      "cell_type": "markdown",
      "id": "8f463fda",
      "metadata": {
        "id": "8f463fda"
      },
      "source": [
        "# SVM Classification"
      ]
    },
    {
      "cell_type": "markdown",
      "id": "aba9651f",
      "metadata": {
        "id": "aba9651f"
      },
      "source": [
        "## RBC Kernel"
      ]
    },
    {
      "cell_type": "code",
      "execution_count": null,
      "id": "7a77bc6c",
      "metadata": {
        "colab": {
          "base_uri": "https://localhost:8080/"
        },
        "id": "7a77bc6c",
        "outputId": "5982e68e-27f2-45d3-cd79-cdf9b47505bb"
      },
      "outputs": [
        {
          "output_type": "stream",
          "name": "stdout",
          "text": [
            "Accuracy = \n",
            "0.8486666666666667\n"
          ]
        }
      ],
      "source": [
        "# SVM Classification\n",
        "svcrbf=SVC(kernel=\"rbf\", C=500) \n",
        "svcrbf.fit(X_trains,Y_train)\n",
        "#Y_pred = svc.predict(X_test)\n",
        "\n",
        "#print(\"Accuracy:\", metrics.accuracy_score(Y_test, Y_pred))\n",
        "cv1 = RepeatedKFold(n_splits=20, n_repeats=300,random_state=42)\n",
        "score = cross_val_score(svcrbf, X_tests, Y_test, scoring='accuracy', cv=cv1)\n",
        "print(\"Accuracy = \" )\n",
        "print(np.mean(score))\n",
        "#with scaling , C=150,n_splits=20, n_repeats=300--- 84.86\n",
        "\n"
      ]
    },
    {
      "cell_type": "code",
      "execution_count": null,
      "id": "75766fe7",
      "metadata": {
        "colab": {
          "base_uri": "https://localhost:8080/",
          "height": 269
        },
        "id": "75766fe7",
        "outputId": "288a4bda-7d4c-4dae-ae04-608aa7900d1f"
      },
      "outputs": [
        {
          "output_type": "display_data",
          "data": {
            "text/plain": [
              "<Figure size 432x288 with 2 Axes>"
            ],
            "image/png": "[encoded data removed]"
          },
          "metadata": {
            "needs_background": "light"
          }
        }
      ],
      "source": [
        "# Plotting confusion Matrix for Knn\n",
        "from sklearn.metrics import confusion_matrix\n",
        "Y_predsvm = cross_val_predict(svcrbf, X_test, Y_test, cv=10)\n",
        "\n",
        "cf_matrix = confusion_matrix(Y_test, Y_predsvm)\n",
        "sns.heatmap(cf_matrix, annot=True, fmt='.0f', cmap=\"Oranges\")\n",
        "plt.show()"
      ]
    },
    {
      "cell_type": "code",
      "execution_count": null,
      "id": "e57fa40b",
      "metadata": {
        "colab": {
          "base_uri": "https://localhost:8080/"
        },
        "id": "e57fa40b",
        "outputId": "9dd9bd19-5522-41c8-eaf9-451e5f960969"
      },
      "outputs": [
        {
          "output_type": "stream",
          "name": "stdout",
          "text": [
            "              precision    recall  f1-score   support\n",
            "\n",
            "           1       0.89      0.73      0.80        11\n",
            "           2       0.80      0.89      0.84         9\n",
            "           3       0.92      1.00      0.96        12\n",
            "\n",
            "    accuracy                           0.88        32\n",
            "   macro avg       0.87      0.87      0.87        32\n",
            "weighted avg       0.88      0.88      0.87        32\n",
            "\n"
          ]
        }
      ],
      "source": [
        "# Classification Report of SVM\n",
        "print(classification_report(Y_test, Y_predsvm, \n",
        "                            target_names = ['1','2','3']))"
      ]
    },
    {
      "cell_type": "code",
      "execution_count": null,
      "id": "8d05a5d5",
      "metadata": {
        "colab": {
          "base_uri": "https://localhost:8080/"
        },
        "id": "8d05a5d5",
        "outputId": "7e56cde6-76d1-4d2b-8106-17a25ccc255a"
      },
      "outputs": [
        {
          "output_type": "stream",
          "name": "stdout",
          "text": [
            "Precision: 0.870655\n",
            "Recall: 0.872054\n",
            "F1 score: 0.871354\n"
          ]
        }
      ],
      "source": [
        "# precision tp / (tp + fp)\n",
        "precision = precision_score(Y_test, Y_predsvm,average='macro')\n",
        "print('Precision: %f' % precision)\n",
        "\n",
        "# recall: tp / (tp + fn)\n",
        "recall = recall_score(Y_test, Y_predsvm,average='macro')\n",
        "print('Recall: %f' % recall)\n",
        "\n",
        "f1score = 2*((precision*recall)/(precision+recall))\n",
        "print('F1 score: %f' % f1score)"
      ]
    },
    {
      "cell_type": "markdown",
      "id": "037cf2f4",
      "metadata": {
        "id": "037cf2f4"
      },
      "source": [
        "## Linear Kernel"
      ]
    },
    {
      "cell_type": "code",
      "execution_count": null,
      "id": "8d2c2059",
      "metadata": {
        "colab": {
          "base_uri": "https://localhost:8080/"
        },
        "id": "8d2c2059",
        "outputId": "889ee1d7-de50-4c10-c5ce-0c131a0272c6"
      },
      "outputs": [
        {
          "output_type": "stream",
          "name": "stdout",
          "text": [
            "Accuracy = \n",
            "0.875\n"
          ]
        }
      ],
      "source": [
        "# SVM Classification\n",
        "svclin=SVC(kernel=\"linear\",C=200) \n",
        "svclin.fit(X_trains,Y_train)\n",
        "#Y_pred = svc.predict(X_test)\n",
        "\n",
        "#print(\"Accuracy:\", metrics.accuracy_score(Y_test, Y_pred))\n",
        "cv1 = RepeatedKFold(n_splits=20, n_repeats=100,random_state=42)\n",
        "score = cross_val_score(svclin, X_tests, Y_test, scoring='accuracy', cv=cv1)\n",
        "print(\"Accuracy = \" )\n",
        "print(np.mean(score))\n",
        "#with scaling , C=200,n_splits=20, n_repeats=70--- 87.5"
      ]
    },
    {
      "cell_type": "code",
      "execution_count": null,
      "id": "80a6d904",
      "metadata": {
        "colab": {
          "base_uri": "https://localhost:8080/",
          "height": 269
        },
        "id": "80a6d904",
        "outputId": "88cd2ebc-b026-43fe-a1b4-020c53d96456"
      },
      "outputs": [
        {
          "output_type": "display_data",
          "data": {
            "text/plain": [
              "<Figure size 432x288 with 2 Axes>"
            ],
            "image/png": "[encoded data removed]"
          },
          "metadata": {
            "needs_background": "light"
          }
        }
      ],
      "source": [
        "# Plotting confusion Matrix for Knn\n",
        "from sklearn.metrics import confusion_matrix\n",
        "Y_predsvm = cross_val_predict(svclin, X_test, Y_test, cv=10)\n",
        "cf_matrix = confusion_matrix(Y_test, Y_predsvm)\n",
        "sns.heatmap(cf_matrix, annot=True, fmt='.0f', cmap=\"Oranges\")\n",
        "plt.show()"
      ]
    },
    {
      "cell_type": "code",
      "execution_count": null,
      "id": "d845c251",
      "metadata": {
        "colab": {
          "base_uri": "https://localhost:8080/"
        },
        "id": "d845c251",
        "outputId": "d8193302-0fef-42cf-9587-718e8e616261"
      },
      "outputs": [
        {
          "output_type": "stream",
          "name": "stdout",
          "text": [
            "              precision    recall  f1-score   support\n",
            "\n",
            "           1       0.89      0.73      0.80        11\n",
            "           2       0.89      0.89      0.89         9\n",
            "           3       0.86      1.00      0.92        12\n",
            "\n",
            "    accuracy                           0.88        32\n",
            "   macro avg       0.88      0.87      0.87        32\n",
            "weighted avg       0.88      0.88      0.87        32\n",
            "\n"
          ]
        }
      ],
      "source": [
        "# Classification Report of SVM\n",
        "print(classification_report(Y_test, Y_predsvm, \n",
        "                            target_names = ['1','2','3']))"
      ]
    },
    {
      "cell_type": "code",
      "execution_count": null,
      "id": "951fc048",
      "metadata": {
        "colab": {
          "base_uri": "https://localhost:8080/"
        },
        "id": "951fc048",
        "outputId": "43bd11a2-4bd7-4b5c-bb89-9fcf4142e649"
      },
      "outputs": [
        {
          "output_type": "stream",
          "name": "stdout",
          "text": [
            "Precision: 0.878307\n",
            "Recall: 0.872054\n",
            "F1 score: 0.875169\n"
          ]
        }
      ],
      "source": [
        "# precision tp / (tp + fp)\n",
        "precision = precision_score(Y_test, Y_predsvm,average='macro')\n",
        "print('Precision: %f' % precision)\n",
        "\n",
        "# recall: tp / (tp + fn)\n",
        "recall = recall_score(Y_test, Y_predsvm,average='macro')\n",
        "print('Recall: %f' % recall)\n",
        "\n",
        "f1score = 2*((precision*recall)/(precision+recall))\n",
        "print('F1 score: %f' % f1score)"
      ]
    },
    {
      "cell_type": "markdown",
      "id": "7a5bad87",
      "metadata": {
        "id": "7a5bad87"
      },
      "source": [
        "## Polynomial Kernel"
      ]
    },
    {
      "cell_type": "code",
      "execution_count": null,
      "id": "be2ae4da",
      "metadata": {
        "colab": {
          "base_uri": "https://localhost:8080/"
        },
        "id": "be2ae4da",
        "outputId": "1d90ac0d-8805-456d-a936-42610f004356"
      },
      "outputs": [
        {
          "output_type": "stream",
          "name": "stdout",
          "text": [
            "Accuracy = \n",
            "0.8982142857142857\n"
          ]
        }
      ],
      "source": [
        "# SVM Classification using polynomial kernel\n",
        "svcpoly=SVC(kernel=\"sigmoid\",C=100) \n",
        "svcpoly.fit(X_trains,Y_train)\n",
        "\n",
        "\n",
        "#Y_pred = svc1.predict(X_test)\n",
        "\n",
        "#print(\"Accuracy:\", metrics.accuracy_score(Y_test, Y_pred))\n",
        "cv1 = RepeatedKFold(n_splits=20, n_repeats=70,random_state=42)\n",
        "score = cross_val_score(svcpoly, X_tests, Y_test, scoring='accuracy', cv=cv1)\n",
        "print(\"Accuracy = \" )\n",
        "print(np.mean(score))\n",
        "#with scaling , C=100,n_splits=20, n_repeats=70--- 89.82"
      ]
    },
    {
      "cell_type": "code",
      "execution_count": null,
      "id": "f2ba99c3",
      "metadata": {
        "colab": {
          "base_uri": "https://localhost:8080/",
          "height": 269
        },
        "id": "f2ba99c3",
        "outputId": "f9463bd8-177d-4306-ba32-9588d9a2e390"
      },
      "outputs": [
        {
          "output_type": "display_data",
          "data": {
            "text/plain": [
              "<Figure size 432x288 with 2 Axes>"
            ],
            "image/png": "[encoded data removed]"
          },
          "metadata": {
            "needs_background": "light"
          }
        }
      ],
      "source": [
        "# Plotting confusion Matrix for Knn\n",
        "from sklearn.metrics import confusion_matrix\n",
        "Y_predsvm = cross_val_predict(svcpoly, X_test, Y_test, cv=10)\n",
        "cf_matrix = confusion_matrix(Y_test, Y_predsvm)\n",
        "sns.heatmap(cf_matrix, annot=True, fmt='.0f', cmap=\"Oranges\")\n",
        "plt.show()"
      ]
    },
    {
      "cell_type": "code",
      "execution_count": null,
      "id": "beea5848",
      "metadata": {
        "colab": {
          "base_uri": "https://localhost:8080/"
        },
        "id": "beea5848",
        "outputId": "73459b5c-35b6-4b5f-a7f5-accf507b1964"
      },
      "outputs": [
        {
          "output_type": "stream",
          "name": "stdout",
          "text": [
            "              precision    recall  f1-score   support\n",
            "\n",
            "           1       1.00      0.36      0.53        11\n",
            "           2       0.90      1.00      0.95         9\n",
            "           3       0.67      1.00      0.80        12\n",
            "\n",
            "    accuracy                           0.78        32\n",
            "   macro avg       0.86      0.79      0.76        32\n",
            "weighted avg       0.85      0.78      0.75        32\n",
            "\n"
          ]
        }
      ],
      "source": [
        "# Classification Report of SVM\n",
        "print(classification_report(Y_test, Y_predsvm, \n",
        "                            target_names = ['1','2','3']))"
      ]
    },
    {
      "cell_type": "code",
      "execution_count": null,
      "id": "641d4d96",
      "metadata": {
        "colab": {
          "base_uri": "https://localhost:8080/"
        },
        "id": "641d4d96",
        "outputId": "84b2a062-4dad-4fb4-e1f6-cb82f11fd05e"
      },
      "outputs": [
        {
          "output_type": "stream",
          "name": "stdout",
          "text": [
            "Precision: 0.855556\n",
            "Recall: 0.787879\n",
            "F1 score: 0.820324\n"
          ]
        }
      ],
      "source": [
        "# precision tp / (tp + fp)\n",
        "precision = precision_score(Y_test, Y_predsvm,average='macro')\n",
        "print('Precision: %f' % precision)\n",
        "\n",
        "# recall: tp / (tp + fn)\n",
        "recall = recall_score(Y_test, Y_predsvm,average='macro')\n",
        "print('Recall: %f' % recall)\n",
        "\n",
        "f1score = 2*((precision*recall)/(precision+recall))\n",
        "print('F1 score: %f' % f1score)"
      ]
    },
    {
      "cell_type": "code",
      "execution_count": null,
      "id": "cf734347",
      "metadata": {
        "id": "cf734347"
      },
      "outputs": [],
      "source": [
        "#Helper function to plot the decision boundary\n",
        "from matplotlib.colors import ListedColormap\n",
        "def plot_decision_regions(X, y, classifier, test_idx=None, resolution=0.02):\n",
        "\n",
        "    # setup marker generator and color map\n",
        "    markers = ('s', 'x', 'o', '^', 'v')\n",
        "    colors = ('red', 'blue', 'lightgreen', 'gray', 'cyan')\n",
        "    cmap = ListedColormap(colors[:len(np.unique(y))])\n",
        "\n",
        "    # plot the decision surface\n",
        "    x1_min, x1_max = X[:, 0].min() - 1, X[:, 0].max() + 1\n",
        "    x2_min, x2_max = X[:, 1].min() - 1, X[:, 1].max() + 1\n",
        "    xx1, xx2 = np.meshgrid(np.arange(x1_min, x1_max, resolution),\n",
        "                           np.arange(x2_min, x2_max, resolution))\n",
        "    Z = classifier.predict(np.array([xx1.ravel(), xx2.ravel()]).T)\n",
        "    Z = Z.reshape(xx1.shape)\n",
        "    plt.contourf(xx1, xx2, Z, alpha=0.4, cmap=cmap)\n",
        "    plt.xlim(xx1.min(), xx1.max())\n",
        "    plt.ylim(xx2.min(), xx2.max())\n",
        "\n",
        "    for idx, cl in enumerate(np.unique(y)):\n",
        "        plt.scatter(x=X[y == cl, 0], y=X[y == cl, 1],\n",
        "                    alpha=0.8, c=cmap(idx),\n",
        "                    marker=markers[idx], label=cl)\n",
        "\n",
        "    # highlight test samples\n",
        "    if test_idx:\n",
        "        # plot all samples\n",
        "        if not versiontuple(np.__version__) >= versiontuple('1.9.0'):\n",
        "            X_test, y_test = X[list(test_idx), :], y[list(test_idx)]\n",
        "            warnings.warn('Please update to NumPy 1.9.0 or newer')\n",
        "        else:\n",
        "            X_test, y_test = X[test_idx, :], y[test_idx]\n",
        "\n",
        "        plt.scatter(X_test[:, 0],\n",
        "                    X_test[:, 1],\n",
        "                    c='',\n",
        "                    alpha=1.0,\n",
        "                    linewidths=1,\n",
        "                    marker='o',\n",
        "                    s=55, label='test set')"
      ]
    },
    {
      "cell_type": "code",
      "execution_count": null,
      "id": "d4a9303f",
      "metadata": {
        "id": "d4a9303f",
        "outputId": "d3f657a9-33c4-4ef3-82c2-091165e98922"
      },
      "outputs": [
        {
          "ename": "ValueError",
          "evalue": "X.shape[1] = 2 should be equal to 50000, the number of features at training time",
          "output_type": "error",
          "traceback": [
            "\u001b[1;31m---------------------------------------------------------------------------\u001b[0m",
            "\u001b[1;31mValueError\u001b[0m                                Traceback (most recent call last)",
            "\u001b[1;32m<ipython-input-86-2a757d9dae3c>\u001b[0m in \u001b[0;36m<module>\u001b[1;34m\u001b[0m\n\u001b[0;32m      1\u001b[0m \u001b[1;31m# Visualize the decision boundaries\u001b[0m\u001b[1;33m\u001b[0m\u001b[1;33m\u001b[0m\u001b[1;33m\u001b[0m\u001b[0m\n\u001b[1;32m----> 2\u001b[1;33m \u001b[0mplot_decision_regions\u001b[0m\u001b[1;33m(\u001b[0m\u001b[0mX_train\u001b[0m\u001b[1;33m,\u001b[0m \u001b[0mY_train\u001b[0m\u001b[1;33m,\u001b[0m \u001b[0mclassifier\u001b[0m\u001b[1;33m=\u001b[0m\u001b[0msvcrbf\u001b[0m\u001b[1;33m)\u001b[0m\u001b[1;33m\u001b[0m\u001b[1;33m\u001b[0m\u001b[0m\n\u001b[0m\u001b[0;32m      3\u001b[0m \u001b[0mplt\u001b[0m\u001b[1;33m.\u001b[0m\u001b[0mlegend\u001b[0m\u001b[1;33m(\u001b[0m\u001b[0mloc\u001b[0m\u001b[1;33m=\u001b[0m\u001b[1;34m'upper left'\u001b[0m\u001b[1;33m)\u001b[0m\u001b[1;33m\u001b[0m\u001b[1;33m\u001b[0m\u001b[0m\n\u001b[0;32m      4\u001b[0m \u001b[0mplt\u001b[0m\u001b[1;33m.\u001b[0m\u001b[0mtight_layout\u001b[0m\u001b[1;33m(\u001b[0m\u001b[1;33m)\u001b[0m\u001b[1;33m\u001b[0m\u001b[1;33m\u001b[0m\u001b[0m\n\u001b[0;32m      5\u001b[0m \u001b[0mplt\u001b[0m\u001b[1;33m.\u001b[0m\u001b[0mshow\u001b[0m\u001b[1;33m(\u001b[0m\u001b[1;33m)\u001b[0m\u001b[1;33m\u001b[0m\u001b[1;33m\u001b[0m\u001b[0m\n",
            "\u001b[1;32m<ipython-input-85-cfe6ddf5e0ce>\u001b[0m in \u001b[0;36mplot_decision_regions\u001b[1;34m(X, y, classifier, test_idx, resolution)\u001b[0m\n\u001b[0;32m     13\u001b[0m     xx1, xx2 = np.meshgrid(np.arange(x1_min, x1_max, resolution),\n\u001b[0;32m     14\u001b[0m                            np.arange(x2_min, x2_max, resolution))\n\u001b[1;32m---> 15\u001b[1;33m     \u001b[0mZ\u001b[0m \u001b[1;33m=\u001b[0m \u001b[0mclassifier\u001b[0m\u001b[1;33m.\u001b[0m\u001b[0mpredict\u001b[0m\u001b[1;33m(\u001b[0m\u001b[0mnp\u001b[0m\u001b[1;33m.\u001b[0m\u001b[0marray\u001b[0m\u001b[1;33m(\u001b[0m\u001b[1;33m[\u001b[0m\u001b[0mxx1\u001b[0m\u001b[1;33m.\u001b[0m\u001b[0mravel\u001b[0m\u001b[1;33m(\u001b[0m\u001b[1;33m)\u001b[0m\u001b[1;33m,\u001b[0m \u001b[0mxx2\u001b[0m\u001b[1;33m.\u001b[0m\u001b[0mravel\u001b[0m\u001b[1;33m(\u001b[0m\u001b[1;33m)\u001b[0m\u001b[1;33m]\u001b[0m\u001b[1;33m)\u001b[0m\u001b[1;33m.\u001b[0m\u001b[0mT\u001b[0m\u001b[1;33m)\u001b[0m\u001b[1;33m\u001b[0m\u001b[1;33m\u001b[0m\u001b[0m\n\u001b[0m\u001b[0;32m     16\u001b[0m     \u001b[0mZ\u001b[0m \u001b[1;33m=\u001b[0m \u001b[0mZ\u001b[0m\u001b[1;33m.\u001b[0m\u001b[0mreshape\u001b[0m\u001b[1;33m(\u001b[0m\u001b[0mxx1\u001b[0m\u001b[1;33m.\u001b[0m\u001b[0mshape\u001b[0m\u001b[1;33m)\u001b[0m\u001b[1;33m\u001b[0m\u001b[1;33m\u001b[0m\u001b[0m\n\u001b[0;32m     17\u001b[0m     \u001b[0mplt\u001b[0m\u001b[1;33m.\u001b[0m\u001b[0mcontourf\u001b[0m\u001b[1;33m(\u001b[0m\u001b[0mxx1\u001b[0m\u001b[1;33m,\u001b[0m \u001b[0mxx2\u001b[0m\u001b[1;33m,\u001b[0m \u001b[0mZ\u001b[0m\u001b[1;33m,\u001b[0m \u001b[0malpha\u001b[0m\u001b[1;33m=\u001b[0m\u001b[1;36m0.4\u001b[0m\u001b[1;33m,\u001b[0m \u001b[0mcmap\u001b[0m\u001b[1;33m=\u001b[0m\u001b[0mcmap\u001b[0m\u001b[1;33m)\u001b[0m\u001b[1;33m\u001b[0m\u001b[1;33m\u001b[0m\u001b[0m\n",
            "\u001b[1;32m~\\anaconda3\\envs\\gpu2\\lib\\site-packages\\sklearn\\svm\\_base.py\u001b[0m in \u001b[0;36mpredict\u001b[1;34m(self, X)\u001b[0m\n\u001b[0;32m    622\u001b[0m             \u001b[0my\u001b[0m \u001b[1;33m=\u001b[0m \u001b[0mnp\u001b[0m\u001b[1;33m.\u001b[0m\u001b[0margmax\u001b[0m\u001b[1;33m(\u001b[0m\u001b[0mself\u001b[0m\u001b[1;33m.\u001b[0m\u001b[0mdecision_function\u001b[0m\u001b[1;33m(\u001b[0m\u001b[0mX\u001b[0m\u001b[1;33m)\u001b[0m\u001b[1;33m,\u001b[0m \u001b[0maxis\u001b[0m\u001b[1;33m=\u001b[0m\u001b[1;36m1\u001b[0m\u001b[1;33m)\u001b[0m\u001b[1;33m\u001b[0m\u001b[1;33m\u001b[0m\u001b[0m\n\u001b[0;32m    623\u001b[0m         \u001b[1;32melse\u001b[0m\u001b[1;33m:\u001b[0m\u001b[1;33m\u001b[0m\u001b[1;33m\u001b[0m\u001b[0m\n\u001b[1;32m--> 624\u001b[1;33m             \u001b[0my\u001b[0m \u001b[1;33m=\u001b[0m \u001b[0msuper\u001b[0m\u001b[1;33m(\u001b[0m\u001b[1;33m)\u001b[0m\u001b[1;33m.\u001b[0m\u001b[0mpredict\u001b[0m\u001b[1;33m(\u001b[0m\u001b[0mX\u001b[0m\u001b[1;33m)\u001b[0m\u001b[1;33m\u001b[0m\u001b[1;33m\u001b[0m\u001b[0m\n\u001b[0m\u001b[0;32m    625\u001b[0m         \u001b[1;32mreturn\u001b[0m \u001b[0mself\u001b[0m\u001b[1;33m.\u001b[0m\u001b[0mclasses_\u001b[0m\u001b[1;33m.\u001b[0m\u001b[0mtake\u001b[0m\u001b[1;33m(\u001b[0m\u001b[0mnp\u001b[0m\u001b[1;33m.\u001b[0m\u001b[0masarray\u001b[0m\u001b[1;33m(\u001b[0m\u001b[0my\u001b[0m\u001b[1;33m,\u001b[0m \u001b[0mdtype\u001b[0m\u001b[1;33m=\u001b[0m\u001b[0mnp\u001b[0m\u001b[1;33m.\u001b[0m\u001b[0mintp\u001b[0m\u001b[1;33m)\u001b[0m\u001b[1;33m)\u001b[0m\u001b[1;33m\u001b[0m\u001b[1;33m\u001b[0m\u001b[0m\n\u001b[0;32m    626\u001b[0m \u001b[1;33m\u001b[0m\u001b[0m\n",
            "\u001b[1;32m~\\anaconda3\\envs\\gpu2\\lib\\site-packages\\sklearn\\svm\\_base.py\u001b[0m in \u001b[0;36mpredict\u001b[1;34m(self, X)\u001b[0m\n\u001b[0;32m    340\u001b[0m         \u001b[0my_pred\u001b[0m \u001b[1;33m:\u001b[0m \u001b[0mndarray\u001b[0m \u001b[0mof\u001b[0m \u001b[0mshape\u001b[0m \u001b[1;33m(\u001b[0m\u001b[0mn_samples\u001b[0m\u001b[1;33m,\u001b[0m\u001b[1;33m)\u001b[0m\u001b[1;33m\u001b[0m\u001b[1;33m\u001b[0m\u001b[0m\n\u001b[0;32m    341\u001b[0m         \"\"\"\n\u001b[1;32m--> 342\u001b[1;33m         \u001b[0mX\u001b[0m \u001b[1;33m=\u001b[0m \u001b[0mself\u001b[0m\u001b[1;33m.\u001b[0m\u001b[0m_validate_for_predict\u001b[0m\u001b[1;33m(\u001b[0m\u001b[0mX\u001b[0m\u001b[1;33m)\u001b[0m\u001b[1;33m\u001b[0m\u001b[1;33m\u001b[0m\u001b[0m\n\u001b[0m\u001b[0;32m    343\u001b[0m         \u001b[0mpredict\u001b[0m \u001b[1;33m=\u001b[0m \u001b[0mself\u001b[0m\u001b[1;33m.\u001b[0m\u001b[0m_sparse_predict\u001b[0m \u001b[1;32mif\u001b[0m \u001b[0mself\u001b[0m\u001b[1;33m.\u001b[0m\u001b[0m_sparse\u001b[0m \u001b[1;32melse\u001b[0m \u001b[0mself\u001b[0m\u001b[1;33m.\u001b[0m\u001b[0m_dense_predict\u001b[0m\u001b[1;33m\u001b[0m\u001b[1;33m\u001b[0m\u001b[0m\n\u001b[0;32m    344\u001b[0m         \u001b[1;32mreturn\u001b[0m \u001b[0mpredict\u001b[0m\u001b[1;33m(\u001b[0m\u001b[0mX\u001b[0m\u001b[1;33m)\u001b[0m\u001b[1;33m\u001b[0m\u001b[1;33m\u001b[0m\u001b[0m\n",
            "\u001b[1;32m~\\anaconda3\\envs\\gpu2\\lib\\site-packages\\sklearn\\svm\\_base.py\u001b[0m in \u001b[0;36m_validate_for_predict\u001b[1;34m(self, X)\u001b[0m\n\u001b[0;32m    493\u001b[0m             raise ValueError(\"X.shape[1] = %d should be equal to %d, \"\n\u001b[0;32m    494\u001b[0m                              \u001b[1;34m\"the number of features at training time\"\u001b[0m \u001b[1;33m%\u001b[0m\u001b[1;33m\u001b[0m\u001b[1;33m\u001b[0m\u001b[0m\n\u001b[1;32m--> 495\u001b[1;33m                              (X.shape[1], self.shape_fit_[1]))\n\u001b[0m\u001b[0;32m    496\u001b[0m         \u001b[1;32mreturn\u001b[0m \u001b[0mX\u001b[0m\u001b[1;33m\u001b[0m\u001b[1;33m\u001b[0m\u001b[0m\n\u001b[0;32m    497\u001b[0m \u001b[1;33m\u001b[0m\u001b[0m\n",
            "\u001b[1;31mValueError\u001b[0m: X.shape[1] = 2 should be equal to 50000, the number of features at training time"
          ]
        }
      ],
      "source": [
        "# Visualize the decision boundaries\n",
        "plot_decision_regions(X_train, Y_train, classifier=svcrbf)\n",
        "plt.legend(loc='upper left')\n",
        "plt.tight_layout()\n",
        "plt.show()"
      ]
    },
    {
      "cell_type": "markdown",
      "id": "e457977e",
      "metadata": {
        "id": "e457977e"
      },
      "source": [
        "# Decision Tree"
      ]
    },
    {
      "cell_type": "code",
      "execution_count": null,
      "id": "d3317b22",
      "metadata": {
        "colab": {
          "base_uri": "https://localhost:8080/"
        },
        "id": "d3317b22",
        "outputId": "09604d9d-9a7a-4d12-b3e8-b8565ae901c4"
      },
      "outputs": [
        {
          "output_type": "stream",
          "name": "stdout",
          "text": [
            "Depth=10 : 0.848\n"
          ]
        }
      ],
      "source": [
        "decisiontree1 = DecisionTreeClassifier(criterion    =  'entropy',\n",
        "                                          max_depth    =  20,\n",
        "                                          random_state=0 )\n",
        "decisiontree1.fit(X_trains,Y_train)\n",
        "    #Y_pred = decisiontree.predict(X_test)\n",
        "\n",
        "    #print(\"Accuracy:\", metrics.accuracy_score(Y_test, Y_pred))\n",
        "cv2 = RepeatedKFold(n_splits=20, n_repeats=20,random_state=42)\n",
        "    \n",
        "score = cross_val_score(decisiontree1, X_tests, Y_test, scoring='accuracy', cv=cv2)\n",
        "print('Depth=%d : %.3f' % (10, (np.mean(score))))\n",
        "#With scaling, depth:10,n_splits=20, n_repeats=20,gini--- 84.8"
      ]
    },
    {
      "cell_type": "code",
      "execution_count": null,
      "id": "04bca41a",
      "metadata": {
        "colab": {
          "base_uri": "https://localhost:8080/",
          "height": 269
        },
        "id": "04bca41a",
        "outputId": "4f9b9f67-f27f-489f-d8f1-1a4bdc48abe7"
      },
      "outputs": [
        {
          "output_type": "display_data",
          "data": {
            "text/plain": [
              "<Figure size 432x288 with 2 Axes>"
            ],
            "image/png": "[encoded data removed]"
          },
          "metadata": {
            "needs_background": "light"
          }
        }
      ],
      "source": [
        "# Plotting confusion Matrix for decisiontree\n",
        "from sklearn.metrics import confusion_matrix\n",
        "Y_preddt = cross_val_predict(decisiontree1, X_tests, Y_test, cv=10)\n",
        "\n",
        "cf_matrix = confusion_matrix(Y_test, Y_preddt)\n",
        "sns.heatmap(cf_matrix, annot=True, fmt='.0f', cmap=\"Blues\")\n",
        "plt.show()"
      ]
    },
    {
      "cell_type": "markdown",
      "id": "dd5dc168",
      "metadata": {
        "id": "dd5dc168"
      },
      "source": [
        "### DT's of different depth"
      ]
    },
    {
      "cell_type": "code",
      "execution_count": null,
      "id": "1736507f",
      "metadata": {
        "id": "1736507f"
      },
      "outputs": [],
      "source": [
        "# Decision Tree classification\n",
        "for i in range(5,20):\n",
        "    decisiontree2 = DecisionTreeClassifier(criterion    =  'entropy',\n",
        "                                          max_depth    =  i,\n",
        "                                          random_state=0 )\n",
        "    decisiontree2.fit(X_train,Y_train)\n",
        "    #Y_pred = decisiontree.predict(X_test)\n",
        "\n",
        "    #print(\"Accuracy:\", metrics.accuracy_score(Y_test, Y_pred))\n",
        "    cv2 = RepeatedKFold(n_splits=20, n_repeats=20,random_state=42)\n",
        "    \n",
        "    score = cross_val_score(decisiontree2, X_test, Y_test, scoring='accuracy', cv=cv2)\n",
        "    print('Depth=%d : %.3f' % (i, (np.mean(score))))\n",
        "    "
      ]
    },
    {
      "cell_type": "code",
      "execution_count": null,
      "id": "18c26142",
      "metadata": {
        "id": "18c26142",
        "outputId": "db101151-7ce4-4140-a3e8-813a8fa73563"
      },
      "outputs": [
        {
          "data": {
            "image/png": "[encoded data removed]",
            "text/plain": [
              "<Figure size 432x288 with 2 Axes>"
            ]
          },
          "metadata": {
            "needs_background": "light"
          },
          "output_type": "display_data"
        }
      ],
      "source": [
        "# Plotting confusion Matrix for decisiontree\n",
        "from sklearn.metrics import confusion_matrix\n",
        "Y_preddt = cross_val_predict(decisiontree2, X_test, Y_test, cv=10)\n",
        "\n",
        "cf_matrix = confusion_matrix(Y_test, Y_preddt)\n",
        "sns.heatmap(cf_matrix, annot=True, fmt='.0f', cmap=\"Blues\")\n",
        "plt.show()"
      ]
    },
    {
      "cell_type": "code",
      "execution_count": null,
      "id": "d0432a96",
      "metadata": {
        "colab": {
          "base_uri": "https://localhost:8080/"
        },
        "id": "d0432a96",
        "outputId": "7c3a1285-1f4d-4927-cc03-0c3e3045a664"
      },
      "outputs": [
        {
          "output_type": "stream",
          "name": "stdout",
          "text": [
            "              precision    recall  f1-score   support\n",
            "\n",
            "     class 1       0.89      0.73      0.80        11\n",
            "      class2       0.89      0.89      0.89         9\n",
            "      class3       0.86      1.00      0.92        12\n",
            "\n",
            "    accuracy                           0.88        32\n",
            "   macro avg       0.88      0.87      0.87        32\n",
            "weighted avg       0.88      0.88      0.87        32\n",
            "\n"
          ]
        }
      ],
      "source": [
        "# Classification Report of DT\n",
        "print(classification_report(Y_test, Y_preddt, \n",
        "                            target_names = ['class 1','class2','class3']))"
      ]
    },
    {
      "cell_type": "code",
      "execution_count": null,
      "id": "cdfedad9",
      "metadata": {
        "colab": {
          "base_uri": "https://localhost:8080/"
        },
        "id": "cdfedad9",
        "outputId": "77dd9211-6839-40fb-8fdf-57055ad13e99"
      },
      "outputs": [
        {
          "output_type": "stream",
          "name": "stdout",
          "text": [
            "Precision: 0.878307\n",
            "Recall: 0.872054\n",
            "F1 score: 0.875169\n"
          ]
        }
      ],
      "source": [
        "# precision tp / (tp + fp)\n",
        "precision = precision_score(Y_test, Y_preddt,average='macro')\n",
        "print('Precision: %f' % precision)\n",
        "\n",
        "# recall: tp / (tp + fn)\n",
        "recall = recall_score(Y_test, Y_preddt,average='macro')\n",
        "print('Recall: %f' % recall)\n",
        "\n",
        "f1score = 2*((precision*recall)/(precision+recall))\n",
        "print('F1 score: %f' % f1score)"
      ]
    },
    {
      "cell_type": "code",
      "execution_count": null,
      "id": "c90a1221",
      "metadata": {
        "id": "c90a1221"
      },
      "outputs": [],
      "source": [
        "os.environ[\"PATH\"] += os.pathsep + 'C:\\Program Files\\Graphviz\\bin/'"
      ]
    },
    {
      "cell_type": "code",
      "execution_count": null,
      "id": "8d5446a8",
      "metadata": {
        "colab": {
          "base_uri": "https://localhost:8080/",
          "height": 687
        },
        "id": "8d5446a8",
        "outputId": "c14f198b-6285-4199-daa7-c6122bd4b611"
      },
      "outputs": [
        {
          "output_type": "execute_result",
          "data": {
            "image/png": "[encoded data removed]",
            "text/plain": [
              "<IPython.core.display.Image object>"
            ]
          },
          "metadata": {},
          "execution_count": 53
        }
      ],
      "source": [
        "# Plot the Decision Tree\n",
        "# https://www.dasca.org/world-of-big-data/article/know-how-to-create-and-visualize-a-decision-tree-with-python \n",
        "import matplotlib.pyplot as plt\n",
        "import six\n",
        "import sys\n",
        "sys.modules['sklearn.externals.six'] = six\n",
        "from sklearn.externals.six import StringIO\n",
        "from IPython.display import Image  \n",
        "from sklearn.tree import export_graphviz\n",
        "import pydotplus\n",
        "\n",
        "dot_data = StringIO()\n",
        "export_graphviz(decisiontree1, out_file=dot_data,  \n",
        "                filled=True, rounded=True,\n",
        "                special_characters=True)\n",
        "\n",
        "graph = pydotplus.graph_from_dot_data(dot_data.getvalue())  \n",
        "Image(graph.create_png())\n"
      ]
    },
    {
      "cell_type": "code",
      "execution_count": null,
      "id": "fcf570ab",
      "metadata": {
        "id": "fcf570ab",
        "outputId": "afc17711-1891-40ed-ebd7-4c4120d12494"
      },
      "outputs": [
        {
          "data": {
            "image/png": "[encoded data removed]",
            "text/plain": [
              "<IPython.core.display.Image object>"
            ]
          },
          "execution_count": 40,
          "metadata": {},
          "output_type": "execute_result"
        }
      ],
      "source": [
        "# Plot the Decision Tree-- Gini Index\n",
        "# https://www.dasca.org/world-of-big-data/article/know-how-to-create-and-visualize-a-decision-tree-with-python \n",
        "import matplotlib.pyplot as plt\n",
        "import six\n",
        "import sys\n",
        "sys.modules['sklearn.externals.six'] = six\n",
        "from sklearn.externals.six import StringIO\n",
        "from IPython.display import Image  \n",
        "from sklearn.tree import export_graphviz\n",
        "import pydotplus\n",
        "\n",
        "dot_data = StringIO()\n",
        "export_graphviz(decisiontree1, out_file=dot_data,  \n",
        "                filled=True, rounded=True,\n",
        "                special_characters=True)\n",
        "\n",
        "graph = pydotplus.graph_from_dot_data(dot_data.getvalue())  \n",
        "Image(graph.create_png())"
      ]
    },
    {
      "cell_type": "markdown",
      "id": "3bca6569",
      "metadata": {
        "id": "3bca6569"
      },
      "source": [
        "# Random Forest"
      ]
    },
    {
      "cell_type": "code",
      "execution_count": null,
      "id": "f11b94ed",
      "metadata": {
        "colab": {
          "base_uri": "https://localhost:8080/"
        },
        "id": "f11b94ed",
        "outputId": "cd7b0082-fb8d-4837-d286-a20e622d137c"
      },
      "outputs": [
        {
          "output_type": "stream",
          "name": "stdout",
          "text": [
            "Accuracy = \n",
            "0.9375\n"
          ]
        }
      ],
      "source": [
        "# random forest classification\n",
        "from sklearn.ensemble import RandomForestClassifier\n",
        "rf=RandomForestClassifier(n_estimators=1000)\n",
        "rf.fit(X_trains,Y_train)\n",
        "#Y_pred = rf.predict(X_test)\n",
        "#print(\"Accuracy:\", metrics.accuracy_score(Y_test, Y_pred))\n",
        "cv1 = RepeatedKFold(n_splits=32, n_repeats=20,random_state=42)\n",
        "score = cross_val_score(rf, X_tests, Y_test, scoring='accuracy', cv=cv1)\n",
        "print(\"Accuracy = \" )\n",
        "print(np.mean(score))\n",
        "#With scaling--  n_estimators=100, n_splits=32, n_repeats=20--- 93.125\n",
        "#With scaling--  n_estimators=100, n_splits=32, n_repeats=20--- 93.75"
      ]
    },
    {
      "cell_type": "code",
      "execution_count": null,
      "id": "1e705643",
      "metadata": {
        "colab": {
          "base_uri": "https://localhost:8080/",
          "height": 269
        },
        "id": "1e705643",
        "outputId": "8ed5aa77-ef49-4309-c57b-8a8c41154aee"
      },
      "outputs": [
        {
          "output_type": "display_data",
          "data": {
            "text/plain": [
              "<Figure size 432x288 with 2 Axes>"
            ],
            "image/png": "[encoded data removed]"
          },
          "metadata": {
            "needs_background": "light"
          }
        }
      ],
      "source": [
        "# Plotting confusion Matrix for random forest\n",
        "from sklearn.metrics import confusion_matrix\n",
        "Y_predrf = cross_val_predict(rf, X_test, Y_test, cv=10)\n",
        "\n",
        "cf_matrix = confusion_matrix(Y_test, Y_predrf)\n",
        "sns.heatmap(cf_matrix, annot=True, fmt='.0f', cmap=\"Blues\")\n",
        "plt.show()"
      ]
    },
    {
      "cell_type": "code",
      "execution_count": null,
      "id": "64284866",
      "metadata": {
        "colab": {
          "base_uri": "https://localhost:8080/"
        },
        "id": "64284866",
        "outputId": "a256be18-637b-4b4a-bd88-b12f27ab9a63"
      },
      "outputs": [
        {
          "output_type": "stream",
          "name": "stdout",
          "text": [
            "              precision    recall  f1-score   support\n",
            "\n",
            "     class 1       1.00      0.82      0.90        11\n",
            "      class2       0.90      1.00      0.95         9\n",
            "      class3       0.92      1.00      0.96        12\n",
            "\n",
            "    accuracy                           0.94        32\n",
            "   macro avg       0.94      0.94      0.94        32\n",
            "weighted avg       0.94      0.94      0.94        32\n",
            "\n"
          ]
        }
      ],
      "source": [
        "# Classification Report of rf\n",
        "print(classification_report(Y_test, Y_predrf, \n",
        "                            target_names = ['class 1','class2','class3']))"
      ]
    },
    {
      "cell_type": "code",
      "execution_count": null,
      "id": "2ad0bb19",
      "metadata": {
        "colab": {
          "base_uri": "https://localhost:8080/"
        },
        "id": "2ad0bb19",
        "outputId": "5af5c441-9fc2-402c-ab93-a548a9ade9ce"
      },
      "outputs": [
        {
          "output_type": "stream",
          "name": "stdout",
          "text": [
            "Precision: 0.941026\n",
            "Recall: 0.939394\n",
            "F1 score: 0.940209\n"
          ]
        }
      ],
      "source": [
        "# precision tp / (tp + fp)\n",
        "precision = precision_score(Y_test, Y_predrf,average='macro')\n",
        "print('Precision: %f' % precision)\n",
        "\n",
        "# recall: tp / (tp + fn)\n",
        "recall = recall_score(Y_test, Y_predrf,average='macro')\n",
        "print('Recall: %f' % recall)\n",
        "\n",
        "f1score = 2*((precision*recall)/(precision+recall))\n",
        "print('F1 score: %f' % f1score)"
      ]
    },
    {
      "cell_type": "markdown",
      "id": "f7f90dd0",
      "metadata": {
        "id": "f7f90dd0"
      },
      "source": [
        "# XG Boost"
      ]
    },
    {
      "cell_type": "code",
      "execution_count": null,
      "id": "d8d8d3a7",
      "metadata": {
        "id": "d8d8d3a7"
      },
      "outputs": [],
      "source": [
        "import xgboost as xgb\n",
        "\n",
        "xgb_cl = xgb.XGBClassifier(max_depth=50,learning_rate=0.001)\n",
        "#print(xgb_cl)"
      ]
    },
    {
      "cell_type": "code",
      "execution_count": null,
      "id": "ca41d951",
      "metadata": {
        "id": "ca41d951"
      },
      "outputs": [],
      "source": [
        "\n",
        "param_grid = {\n",
        "    \"max_depth\": [3, 4, 5, 7],\n",
        "    \"learning_rate\": [0.1, 0.01, 0.05],\n",
        "    \"gamma\": [0, 0.25, 1],\n",
        "    \"reg_lambda\": [0, 1, 10],\n",
        "    \"scale_pos_weight\": [1, 3, 5],\n",
        "    \"subsample\": [0.8],\n",
        "    \"colsample_bytree\": [0.5],\n",
        "}"
      ]
    },
    {
      "cell_type": "code",
      "execution_count": null,
      "id": "c1fafe05",
      "metadata": {
        "id": "c1fafe05"
      },
      "outputs": [],
      "source": [
        "#hyper parameter tuning\n",
        "from sklearn.model_selection import GridSearchCV\n",
        "\n",
        "# Init classifier\n",
        "xgb_cl = xgb.XGBClassifier(objective=\"multi:softprob\")\n",
        "\n",
        "# Init Grid Search\n",
        "grid_cv = GridSearchCV(xgb_cl, param_grid, n_jobs=-1, cv=3, scoring=\"roc_auc\")\n",
        "\n",
        "# Fit\n",
        "_ = grid_cv.fit(X_train, Y_train)"
      ]
    },
    {
      "cell_type": "code",
      "execution_count": null,
      "id": "3b0bb413",
      "metadata": {
        "id": "3b0bb413"
      },
      "outputs": [],
      "source": [
        "grid_cv.best_score_"
      ]
    },
    {
      "cell_type": "code",
      "execution_count": null,
      "id": "d55bcc15",
      "metadata": {
        "colab": {
          "base_uri": "https://localhost:8080/"
        },
        "id": "d55bcc15",
        "outputId": "68e02402-f00d-4e6e-a0d0-10dfa7f4a7b4"
      },
      "outputs": [
        {
          "output_type": "execute_result",
          "data": {
            "text/plain": [
              "XGBClassifier(learning_rate=0.001, max_depth=50, objective='multi:softprob')"
            ]
          },
          "metadata": {},
          "execution_count": 72
        }
      ],
      "source": [
        "xgb_cl.fit(X_train, Y_train)\n"
      ]
    },
    {
      "cell_type": "code",
      "execution_count": null,
      "id": "9fafb0cd",
      "metadata": {
        "id": "9fafb0cd"
      },
      "outputs": [],
      "source": [
        "preds = xgb_cl.predict(X_test)"
      ]
    },
    {
      "cell_type": "code",
      "execution_count": null,
      "id": "71251c41",
      "metadata": {
        "colab": {
          "base_uri": "https://localhost:8080/"
        },
        "id": "71251c41",
        "outputId": "a020c7ee-6b2a-4d0f-9fb5-716f1bfc7624"
      },
      "outputs": [
        {
          "output_type": "execute_result",
          "data": {
            "text/plain": [
              "0.9375"
            ]
          },
          "metadata": {},
          "execution_count": 70
        }
      ],
      "source": [
        "accuracy_score(Y_test, preds)\n",
        "#max depth: 10- 90.6\n",
        "#max depth:20- 93.75\n",
        "\n"
      ]
    },
    {
      "cell_type": "markdown",
      "id": "e6594214",
      "metadata": {
        "id": "e6594214"
      },
      "source": [
        "# Naive Bayes"
      ]
    },
    {
      "cell_type": "code",
      "execution_count": null,
      "id": "8d456b19",
      "metadata": {
        "colab": {
          "base_uri": "https://localhost:8080/"
        },
        "id": "8d456b19",
        "outputId": "dd971237-a8ff-4924-be70-8b7b2d95e10b"
      },
      "outputs": [
        {
          "output_type": "stream",
          "name": "stdout",
          "text": [
            "Accuracy = \n",
            "0.9\n"
          ]
        }
      ],
      "source": [
        "# naive bayes classification\n",
        "from sklearn import naive_bayes\n",
        "nb = naive_bayes.GaussianNB()\n",
        "nb.fit(X_trains,Y_train)\n",
        "\n",
        "\n",
        "#Y_pred = nb.predict(X_test)\n",
        "\n",
        "#print(\"Accuracy:\", metrics.accuracy_score(Y_test, Y_pred))\n",
        "cv1 = RepeatedKFold(n_splits=20, n_repeats=20,random_state=42)\n",
        "score = cross_val_score(nb, X_tests, Y_test, scoring='accuracy', cv=cv1)\n",
        "print(\"Accuracy = \" )\n",
        "print(np.mean(score))\n",
        "#without scaling: 90"
      ]
    },
    {
      "cell_type": "code",
      "execution_count": null,
      "id": "665b33df",
      "metadata": {
        "colab": {
          "base_uri": "https://localhost:8080/",
          "height": 265
        },
        "id": "665b33df",
        "outputId": "7a5e8b52-f459-4030-bba7-5d02a537f71a"
      },
      "outputs": [
        {
          "output_type": "display_data",
          "data": {
            "text/plain": [
              "<Figure size 432x288 with 2 Axes>"
            ],
            "image/png": "[encoded data removed]"
          },
          "metadata": {
            "needs_background": "light"
          }
        }
      ],
      "source": [
        "# Plotting confusion Matrix for NB\n",
        "from sklearn.metrics import confusion_matrix\n",
        "Y_prednb = cross_val_predict(nb, X_tests, Y_test, cv=10)\n",
        "\n",
        "cf_matrix = confusion_matrix(Y_test, Y_prednb)\n",
        "sns.heatmap(cf_matrix, annot=True, fmt='.0f', cmap=\"Blues\")\n",
        "plt.show()"
      ]
    },
    {
      "cell_type": "code",
      "execution_count": null,
      "id": "fef6e50a",
      "metadata": {
        "colab": {
          "base_uri": "https://localhost:8080/"
        },
        "id": "fef6e50a",
        "outputId": "20296001-caae-42f3-85f3-ac5a1a50c046"
      },
      "outputs": [
        {
          "output_type": "stream",
          "name": "stdout",
          "text": [
            "              precision    recall  f1-score   support\n",
            "\n",
            "     class 1       0.89      0.73      0.80        11\n",
            "      class2       0.75      1.00      0.86         9\n",
            "      class3       1.00      0.92      0.96        12\n",
            "\n",
            "    accuracy                           0.88        32\n",
            "   macro avg       0.88      0.88      0.87        32\n",
            "weighted avg       0.89      0.88      0.87        32\n",
            "\n"
          ]
        }
      ],
      "source": [
        "# Classification Report of nb\n",
        "print(classification_report(Y_test, Y_prednb, \n",
        "                            target_names = ['class 1','class2','class3']))"
      ]
    },
    {
      "cell_type": "code",
      "execution_count": null,
      "id": "32ab6e89",
      "metadata": {
        "colab": {
          "base_uri": "https://localhost:8080/"
        },
        "id": "32ab6e89",
        "outputId": "2687ac6d-1e72-4c3f-e332-4175df53ad99"
      },
      "outputs": [
        {
          "output_type": "stream",
          "name": "stdout",
          "text": [
            "Precision: 0.879630\n",
            "Recall: 0.881313\n",
            "F1 score: 0.880471\n"
          ]
        }
      ],
      "source": [
        "# precision tp / (tp + fp)\n",
        "precision = precision_score(Y_test, Y_prednb,average='macro')\n",
        "print('Precision: %f' % precision)\n",
        "\n",
        "# recall: tp / (tp + fn)\n",
        "recall = recall_score(Y_test, Y_prednb,average='macro')\n",
        "print('Recall: %f' % recall)\n",
        "\n",
        "f1score = 2*((precision*recall)/(precision+recall))\n",
        "print('F1 score: %f' % f1score)"
      ]
    },
    {
      "cell_type": "markdown",
      "id": "21d0281f",
      "metadata": {
        "id": "21d0281f"
      },
      "source": [
        "# Model development with pca"
      ]
    },
    {
      "cell_type": "code",
      "execution_count": null,
      "id": "65eea8ae",
      "metadata": {
        "id": "65eea8ae"
      },
      "outputs": [],
      "source": [
        "# Feature Scaling\n",
        "sc = StandardScaler()\n",
        "X_trainp = sc.fit_transform(X_train)\n",
        "X_testp = sc.transform(X_test)"
      ]
    },
    {
      "cell_type": "code",
      "execution_count": null,
      "id": "083f6791",
      "metadata": {
        "id": "083f6791"
      },
      "outputs": [],
      "source": [
        "# Using PCA\n",
        "from sklearn.decomposition import PCA\n",
        "\n",
        "pca = PCA(n_components=100)\n",
        "X_train_pca = pca.fit_transform(X_train)\n",
        "X_test_pca = pca.transform(X_test)\n"
      ]
    },
    {
      "cell_type": "code",
      "execution_count": null,
      "id": "9e3063e3",
      "metadata": {
        "colab": {
          "base_uri": "https://localhost:8080/"
        },
        "id": "9e3063e3",
        "outputId": "aae28518-c977-4839-9e55-e6751776ac62"
      },
      "outputs": [
        {
          "output_type": "stream",
          "name": "stdout",
          "text": [
            "Accuracy = \n",
            "0.8745\n"
          ]
        }
      ],
      "source": [
        "# SVM Classification\n",
        "svcrbf=SVC(kernel=\"linear\",C=200) \n",
        "svcrbf.fit(X_train_pca,Y_train)\n",
        "#Y_pred = svc.predict(X_test)\n",
        "\n",
        "#print(\"Accuracy:\", metrics.accuracy_score(Y_test, Y_pred))\n",
        "cv1 = RepeatedKFold(n_splits=20, n_repeats=100,random_state=42)\n",
        "score = cross_val_score(svcrbf, X_test_pca, Y_test, scoring='accuracy', cv=cv1)\n",
        "print(\"Accuracy = \" )\n",
        "print(np.mean(score))"
      ]
    },
    {
      "cell_type": "code",
      "execution_count": null,
      "id": "4cdb565b",
      "metadata": {
        "colab": {
          "base_uri": "https://localhost:8080/",
          "height": 269
        },
        "id": "4cdb565b",
        "outputId": "20e09700-705e-4825-82c3-ba76a5ec3a96"
      },
      "outputs": [
        {
          "output_type": "display_data",
          "data": {
            "text/plain": [
              "<Figure size 432x288 with 2 Axes>"
            ],
            "image/png": "[encoded data removed]"
          },
          "metadata": {
            "needs_background": "light"
          }
        }
      ],
      "source": [
        "# Plotting confusion Matrix for Knn\n",
        "from sklearn.metrics import confusion_matrix\n",
        "Y_predsvm = cross_val_predict(svcrbf, X_test_pca, Y_test, cv=10)\n",
        "\n",
        "cf_matrix = confusion_matrix(Y_test, Y_predsvm)\n",
        "sns.heatmap(cf_matrix, annot=True, fmt='.0f', cmap=\"Oranges\")\n",
        "plt.show()"
      ]
    },
    {
      "cell_type": "code",
      "execution_count": null,
      "id": "5ef3fb21",
      "metadata": {
        "id": "5ef3fb21",
        "outputId": "a4175365-1a8b-4550-c269-ce4b9cbd9880"
      },
      "outputs": [
        {
          "name": "stdout",
          "output_type": "stream",
          "text": [
            "Accuracy = \n",
            "0.86375\n"
          ]
        }
      ],
      "source": [
        "# SVM Classification\n",
        "svclin=SVC(kernel=\"linear\") \n",
        "svclin.fit(X_train_pca,Y_train)\n",
        "#Y_pred = svc.predict(X_test)\n",
        "\n",
        "#print(\"Accuracy:\", metrics.accuracy_score(Y_test, Y_pred))\n",
        "cv1 = RepeatedKFold(n_splits=20, n_repeats=20,random_state=42)\n",
        "score = cross_val_score(svclin, X_test_pca, Y_test, scoring='accuracy', cv=cv1)\n",
        "print(\"Accuracy = \" )\n",
        "print(np.mean(score))"
      ]
    },
    {
      "cell_type": "code",
      "execution_count": null,
      "id": "2ef5296d",
      "metadata": {
        "id": "2ef5296d",
        "outputId": "579fd368-b265-4f98-c97e-acf36daf1fed"
      },
      "outputs": [
        {
          "data": {
            "text/plain": [
              "(124, 50)"
            ]
          },
          "execution_count": 73,
          "metadata": {},
          "output_type": "execute_result"
        }
      ],
      "source": [
        "X_train_pca.shape"
      ]
    },
    {
      "cell_type": "code",
      "execution_count": null,
      "id": "73475539",
      "metadata": {
        "id": "73475539",
        "outputId": "baffb00a-a3df-46b4-d4f7-aa48e6bda27a"
      },
      "outputs": [
        {
          "data": {
            "text/plain": [
              "(124, 50000)"
            ]
          },
          "execution_count": 78,
          "metadata": {},
          "output_type": "execute_result"
        }
      ],
      "source": [
        "X_train.shape"
      ]
    },
    {
      "cell_type": "code",
      "execution_count": null,
      "id": "682f418d",
      "metadata": {
        "id": "682f418d",
        "outputId": "fe3a993b-d526-4b46-8943-6fb46b4323c5"
      },
      "outputs": [
        {
          "data": {
            "text/plain": [
              "array([  5.17543723,  25.06364822,  -6.56407012,   5.66178013,\n",
              "        10.6619978 ,  -5.54815705,   5.52838451,   5.56432219,\n",
              "        12.24542322,   7.32955355,  11.54030761,  -7.99468853,\n",
              "         9.98383584,  -5.04099433,   8.84376512,  46.98885136,\n",
              "       -24.95253599,  12.87080273,   5.57707674, 166.51352534,\n",
              "         5.60682362,  -3.20659996,   5.59210381,   5.78438903,\n",
              "         5.67973788,   2.85792846, -26.17282582,   1.78336002,\n",
              "         7.34506055, -25.58690522,  -2.01955332,   1.32279323,\n",
              "         5.63899434, -18.5227804 , -25.61364076, -74.64934337,\n",
              "        37.16201659,   5.56806632, -17.14493532,   5.57352886,\n",
              "       -17.54269651,  30.41569879,   7.86298615,   6.71762911,\n",
              "       -41.98682591,   5.38107021,   6.2327132 ,   5.32308449,\n",
              "       -23.87997183,   5.78195106,  27.61449436,   6.1014497 ,\n",
              "       -32.21061776, -12.45362579, -11.01610328,   5.83675241,\n",
              "        25.06364822, -19.66226642, -11.08772745,  36.61034481,\n",
              "        19.54531055, -14.38195116, -25.61364076,  -6.85473745,\n",
              "         6.2813371 , -43.97242699,  -5.23893655,  12.40249937,\n",
              "         5.76169763, -56.29218091,   5.64210349, -13.99354061,\n",
              "        -2.11265359,  18.86155828,   6.11116651,  -6.32191536,\n",
              "        -1.64168477,   1.48075594,  -1.07303109,  -6.96665965,\n",
              "       -13.64482655,   5.55259505,  -5.7515607 ,  -1.63042761,\n",
              "         0.27505741,  -2.15331317,   5.48620038,  -8.8999691 ,\n",
              "        10.6619978 ,   5.5456062 ,   5.607098  ,   6.38653048,\n",
              "       -21.84980113,  -4.55413584, -17.83655909, -32.87284571,\n",
              "         5.93216607,   5.24775238, -25.90984755, -12.93811822,\n",
              "        42.97256663,   3.43994918,   5.81976506, -37.18781838,\n",
              "         7.41774464,   5.57496728,   9.90362252, -12.9540389 ,\n",
              "        -1.00061948,  -8.93163347, -40.24772854,   5.63067856,\n",
              "       -14.08290466,  13.78009479,   5.35162803,   5.65834456,\n",
              "        10.40090743,  14.76704228, -40.24772854,  -9.14421209,\n",
              "        36.71949828,   5.44456643,   5.55508395,   5.53508366])"
            ]
          },
          "execution_count": 76,
          "metadata": {},
          "output_type": "execute_result"
        }
      ],
      "source": [
        "X_train_pca[:,1]\n",
        "    "
      ]
    },
    {
      "cell_type": "code",
      "execution_count": null,
      "id": "32c4f6b1",
      "metadata": {
        "id": "32c4f6b1"
      },
      "outputs": [],
      "source": []
    }
  ],
  "metadata": {
    "kernelspec": {
      "display_name": "Python 3 (ipykernel)",
      "language": "python",
      "name": "python3"
    },
    "language_info": {
      "codemirror_mode": {
        "name": "ipython",
        "version": 3
      },
      "file_extension": ".py",
      "mimetype": "text/x-python",
      "name": "python",
      "nbconvert_exporter": "python",
      "pygments_lexer": "ipython3",
      "version": "3.9.15"
    },
    "colab": {
      "provenance": [],
      "include_colab_link": true
    }
  },
  "nbformat": 4,
  "nbformat_minor": 5
}